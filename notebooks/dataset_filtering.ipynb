{
 "cells": [
  {
   "cell_type": "code",
   "execution_count": 7,
   "metadata": {},
   "outputs": [
    {
     "name": "stdout",
     "output_type": "stream",
     "text": [
      "The autoreload extension is already loaded. To reload it, use:\n",
      "  %reload_ext autoreload\n"
     ]
    }
   ],
   "source": [
    "%load_ext autoreload\n",
    "%autoreload 2"
   ]
  },
  {
   "cell_type": "code",
   "execution_count": 8,
   "metadata": {},
   "outputs": [],
   "source": [
    "import json\n",
    "import pandas as pd"
   ]
  },
  {
   "cell_type": "code",
   "execution_count": 9,
   "metadata": {},
   "outputs": [],
   "source": [
    "with open(\"/s3/misha/data_dir/MedRAG/evaluation/ori_pqaa.json\", \"r\") as f:\n",
    "    test_dataset = json.load(f)"
   ]
  },
  {
   "cell_type": "code",
   "execution_count": 10,
   "metadata": {},
   "outputs": [],
   "source": [
    "df_test = pd.read_json(\"/s3/misha/data_dir/MedRAG/evaluation/ori_pqaa.json\").T"
   ]
  },
  {
   "cell_type": "code",
   "execution_count": 11,
   "metadata": {},
   "outputs": [],
   "source": [
    "yes_subset = df_test[df_test['final_decision'] == 'yes'].sample(n=250, random_state=42)\n",
    "\n",
    "# Subsample 5000 'no'\n",
    "no_subset = df_test[df_test['final_decision'] == 'no'].sample(n=250, random_state=42)\n",
    "\n",
    "# Combine the subsets\n",
    "balanced_df = pd.concat([yes_subset, no_subset])"
   ]
  },
  {
   "cell_type": "code",
   "execution_count": 12,
   "metadata": {},
   "outputs": [
    {
     "data": {
      "text/plain": [
       "final_decision\n",
       "yes    250\n",
       "no     250\n",
       "Name: count, dtype: int64"
      ]
     },
     "execution_count": 12,
     "metadata": {},
     "output_type": "execute_result"
    }
   ],
   "source": [
    "balanced_df['final_decision'].value_counts()"
   ]
  },
  {
   "cell_type": "code",
   "execution_count": 13,
   "metadata": {},
   "outputs": [],
   "source": [
    "balanced_df.to_csv('/s3/misha/data_dir/MedRAG/evaluation/df_test_sampled.csv', index=False)"
   ]
  },
  {
   "cell_type": "code",
   "execution_count": 14,
   "metadata": {},
   "outputs": [],
   "source": [
    "balanced_df = pd.read_csv('/s3/misha/data_dir/MedRAG/evaluation/df_test_sampled.csv')"
   ]
  },
  {
   "cell_type": "code",
   "execution_count": 16,
   "metadata": {},
   "outputs": [
    {
     "data": {
      "text/html": [
       "<div>\n",
       "<style scoped>\n",
       "    .dataframe tbody tr th:only-of-type {\n",
       "        vertical-align: middle;\n",
       "    }\n",
       "\n",
       "    .dataframe tbody tr th {\n",
       "        vertical-align: top;\n",
       "    }\n",
       "\n",
       "    .dataframe thead th {\n",
       "        text-align: right;\n",
       "    }\n",
       "</style>\n",
       "<table border=\"1\" class=\"dataframe\">\n",
       "  <thead>\n",
       "    <tr style=\"text-align: right;\">\n",
       "      <th></th>\n",
       "      <th>QUESTION</th>\n",
       "      <th>CONTEXTS</th>\n",
       "      <th>LABELS</th>\n",
       "      <th>LONG_ANSWER</th>\n",
       "      <th>MESHES</th>\n",
       "      <th>final_decision</th>\n",
       "    </tr>\n",
       "  </thead>\n",
       "  <tbody>\n",
       "    <tr>\n",
       "      <th>0</th>\n",
       "      <td>Is comparison of ( 68 ) Ga DOTATATE to 18F-FDG...</td>\n",
       "      <td>[\"The evaluation of the remaining pituitary ti...</td>\n",
       "      <td>['OBJECTIVE', 'METHODS', 'RESULTS']</td>\n",
       "      <td>Different degree of uptake of Ga DOTATATE and ...</td>\n",
       "      <td>['Adenoma', 'Adult', 'Cicatrix', 'Female', 'Fl...</td>\n",
       "      <td>yes</td>\n",
       "    </tr>\n",
       "    <tr>\n",
       "      <th>1</th>\n",
       "      <td>Do plasma phospholipids and fatty acid composi...</td>\n",
       "      <td>['There is growing evidence that nonalcoholic ...</td>\n",
       "      <td>['BACKGROUND', 'OBJECTIVE', 'METHODS', 'RESULTS']</td>\n",
       "      <td>The present study demonstrates that there is a...</td>\n",
       "      <td>['Adult', 'Cross-Sectional Studies', 'Fatty Ac...</td>\n",
       "      <td>yes</td>\n",
       "    </tr>\n",
       "    <tr>\n",
       "      <th>2</th>\n",
       "      <td>Is allergic sensitization enhanced in early li...</td>\n",
       "      <td>['Prospective cohort studies suggest that chil...</td>\n",
       "      <td>['BACKGROUND', 'OBJECTIVE', 'METHODS', 'RESULTS']</td>\n",
       "      <td>Recognition of distinct microbial-associated p...</td>\n",
       "      <td>['Adjuvants, Immunologic', 'Animals', 'Animals...</td>\n",
       "      <td>yes</td>\n",
       "    </tr>\n",
       "    <tr>\n",
       "      <th>3</th>\n",
       "      <td>Are serum creatinine levels significantly infl...</td>\n",
       "      <td>['Clinical and experimental data have shown th...</td>\n",
       "      <td>['OBJECTIVE', 'METHODS', 'RESULTS']</td>\n",
       "      <td>These data show that, even in the normal pedia...</td>\n",
       "      <td>['Blood Pressure', 'Child', 'Child, Preschool'...</td>\n",
       "      <td>yes</td>\n",
       "    </tr>\n",
       "    <tr>\n",
       "      <th>4</th>\n",
       "      <td>Does modification of Knee Flexion Angle have P...</td>\n",
       "      <td>['The incidence of anterior cruciate ligament ...</td>\n",
       "      <td>['BACKGROUND', 'OBJECTIVE', 'METHODS', 'METHOD...</td>\n",
       "      <td>Increasing the knee flexion angle during jump ...</td>\n",
       "      <td>['Adult', 'Anterior Cruciate Ligament Injuries...</td>\n",
       "      <td>yes</td>\n",
       "    </tr>\n",
       "    <tr>\n",
       "      <th>...</th>\n",
       "      <td>...</td>\n",
       "      <td>...</td>\n",
       "      <td>...</td>\n",
       "      <td>...</td>\n",
       "      <td>...</td>\n",
       "      <td>...</td>\n",
       "    </tr>\n",
       "    <tr>\n",
       "      <th>495</th>\n",
       "      <td>Is tamoxifen effective in good prognosis patie...</td>\n",
       "      <td>['Large randomised clinical trials and systema...</td>\n",
       "      <td>['BACKGROUND', 'METHODS', 'RESULTS']</td>\n",
       "      <td>The recent suggestion that tamoxifen might be ...</td>\n",
       "      <td>['Adult', 'Aged', 'Aged, 80 and over', 'Carcin...</td>\n",
       "      <td>no</td>\n",
       "    </tr>\n",
       "    <tr>\n",
       "      <th>496</th>\n",
       "      <td>Does periportal fibrosis without cirrhosis aff...</td>\n",
       "      <td>['This study investigates the relationship of ...</td>\n",
       "      <td>['OBJECTIVE', 'METHODS', 'RESULTS']</td>\n",
       "      <td>The presence of periportal fibrosis did not af...</td>\n",
       "      <td>['Adult', 'Aged', 'Biopsy', 'Female', 'Gastroi...</td>\n",
       "      <td>no</td>\n",
       "    </tr>\n",
       "    <tr>\n",
       "      <th>497</th>\n",
       "      <td>Does semen treatment with progesterone and/or ...</td>\n",
       "      <td>['To assess the effects of progesterone and ac...</td>\n",
       "      <td>['OBJECTIVE', 'METHODS', 'METHODS', 'METHODS',...</td>\n",
       "      <td>Neither progesterone nor acetyl-L-carnitine se...</td>\n",
       "      <td>['Acetylcarnitine', 'Annexin A5', 'Apoptosis',...</td>\n",
       "      <td>no</td>\n",
       "    </tr>\n",
       "    <tr>\n",
       "      <th>498</th>\n",
       "      <td>Do minor protease inhibitor mutations at basel...</td>\n",
       "      <td>['Minor protease inhibitor (PI) mutations ofte...</td>\n",
       "      <td>['BACKGROUND', 'METHODS', 'RESULTS']</td>\n",
       "      <td>The presence of minor PI mutations at baseline...</td>\n",
       "      <td>['CD4 Lymphocyte Count', 'Drug Resistance, Vir...</td>\n",
       "      <td>no</td>\n",
       "    </tr>\n",
       "    <tr>\n",
       "      <th>499</th>\n",
       "      <td>Is metal-backed glenoid implant with polyethyl...</td>\n",
       "      <td>['The aims of this study were to determine the...</td>\n",
       "      <td>['BACKGROUND', 'METHODS', 'RESULTS']</td>\n",
       "      <td>Uncemented MB glenoid resurfacing is not a via...</td>\n",
       "      <td>['Aged', 'Arthroplasty, Replacement', 'Female'...</td>\n",
       "      <td>no</td>\n",
       "    </tr>\n",
       "  </tbody>\n",
       "</table>\n",
       "<p>500 rows × 6 columns</p>\n",
       "</div>"
      ],
      "text/plain": [
       "                                              QUESTION  \\\n",
       "0    Is comparison of ( 68 ) Ga DOTATATE to 18F-FDG...   \n",
       "1    Do plasma phospholipids and fatty acid composi...   \n",
       "2    Is allergic sensitization enhanced in early li...   \n",
       "3    Are serum creatinine levels significantly infl...   \n",
       "4    Does modification of Knee Flexion Angle have P...   \n",
       "..                                                 ...   \n",
       "495  Is tamoxifen effective in good prognosis patie...   \n",
       "496  Does periportal fibrosis without cirrhosis aff...   \n",
       "497  Does semen treatment with progesterone and/or ...   \n",
       "498  Do minor protease inhibitor mutations at basel...   \n",
       "499  Is metal-backed glenoid implant with polyethyl...   \n",
       "\n",
       "                                              CONTEXTS  \\\n",
       "0    [\"The evaluation of the remaining pituitary ti...   \n",
       "1    ['There is growing evidence that nonalcoholic ...   \n",
       "2    ['Prospective cohort studies suggest that chil...   \n",
       "3    ['Clinical and experimental data have shown th...   \n",
       "4    ['The incidence of anterior cruciate ligament ...   \n",
       "..                                                 ...   \n",
       "495  ['Large randomised clinical trials and systema...   \n",
       "496  ['This study investigates the relationship of ...   \n",
       "497  ['To assess the effects of progesterone and ac...   \n",
       "498  ['Minor protease inhibitor (PI) mutations ofte...   \n",
       "499  ['The aims of this study were to determine the...   \n",
       "\n",
       "                                                LABELS  \\\n",
       "0                  ['OBJECTIVE', 'METHODS', 'RESULTS']   \n",
       "1    ['BACKGROUND', 'OBJECTIVE', 'METHODS', 'RESULTS']   \n",
       "2    ['BACKGROUND', 'OBJECTIVE', 'METHODS', 'RESULTS']   \n",
       "3                  ['OBJECTIVE', 'METHODS', 'RESULTS']   \n",
       "4    ['BACKGROUND', 'OBJECTIVE', 'METHODS', 'METHOD...   \n",
       "..                                                 ...   \n",
       "495               ['BACKGROUND', 'METHODS', 'RESULTS']   \n",
       "496                ['OBJECTIVE', 'METHODS', 'RESULTS']   \n",
       "497  ['OBJECTIVE', 'METHODS', 'METHODS', 'METHODS',...   \n",
       "498               ['BACKGROUND', 'METHODS', 'RESULTS']   \n",
       "499               ['BACKGROUND', 'METHODS', 'RESULTS']   \n",
       "\n",
       "                                           LONG_ANSWER  \\\n",
       "0    Different degree of uptake of Ga DOTATATE and ...   \n",
       "1    The present study demonstrates that there is a...   \n",
       "2    Recognition of distinct microbial-associated p...   \n",
       "3    These data show that, even in the normal pedia...   \n",
       "4    Increasing the knee flexion angle during jump ...   \n",
       "..                                                 ...   \n",
       "495  The recent suggestion that tamoxifen might be ...   \n",
       "496  The presence of periportal fibrosis did not af...   \n",
       "497  Neither progesterone nor acetyl-L-carnitine se...   \n",
       "498  The presence of minor PI mutations at baseline...   \n",
       "499  Uncemented MB glenoid resurfacing is not a via...   \n",
       "\n",
       "                                                MESHES final_decision  \n",
       "0    ['Adenoma', 'Adult', 'Cicatrix', 'Female', 'Fl...            yes  \n",
       "1    ['Adult', 'Cross-Sectional Studies', 'Fatty Ac...            yes  \n",
       "2    ['Adjuvants, Immunologic', 'Animals', 'Animals...            yes  \n",
       "3    ['Blood Pressure', 'Child', 'Child, Preschool'...            yes  \n",
       "4    ['Adult', 'Anterior Cruciate Ligament Injuries...            yes  \n",
       "..                                                 ...            ...  \n",
       "495  ['Adult', 'Aged', 'Aged, 80 and over', 'Carcin...             no  \n",
       "496  ['Adult', 'Aged', 'Biopsy', 'Female', 'Gastroi...             no  \n",
       "497  ['Acetylcarnitine', 'Annexin A5', 'Apoptosis',...             no  \n",
       "498  ['CD4 Lymphocyte Count', 'Drug Resistance, Vir...             no  \n",
       "499  ['Aged', 'Arthroplasty, Replacement', 'Female'...             no  \n",
       "\n",
       "[500 rows x 6 columns]"
      ]
     },
     "execution_count": 16,
     "metadata": {},
     "output_type": "execute_result"
    }
   ],
   "source": [
    "balanced_df"
   ]
  },
  {
   "cell_type": "code",
   "execution_count": null,
   "metadata": {},
   "outputs": [],
   "source": []
  }
 ],
 "metadata": {
  "kernelspec": {
   "display_name": ".venv",
   "language": "python",
   "name": "python3"
  },
  "language_info": {
   "codemirror_mode": {
    "name": "ipython",
    "version": 3
   },
   "file_extension": ".py",
   "mimetype": "text/x-python",
   "name": "python",
   "nbconvert_exporter": "python",
   "pygments_lexer": "ipython3",
   "version": "3.10.12"
  }
 },
 "nbformat": 4,
 "nbformat_minor": 2
}
