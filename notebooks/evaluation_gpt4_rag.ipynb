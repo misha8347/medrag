{
 "cells": [
  {
   "cell_type": "code",
   "execution_count": 1,
   "metadata": {},
   "outputs": [],
   "source": [
    "%load_ext autoreload\n",
    "%autoreload 2"
   ]
  },
  {
   "cell_type": "code",
   "execution_count": 2,
   "metadata": {},
   "outputs": [],
   "source": [
    "import sys\n",
    "from pathlib import Path\n",
    "\n",
    "# Add the parent directory of 'process' to the Python path\n",
    "sys.path.append(str(Path.cwd().parent))"
   ]
  },
  {
   "cell_type": "code",
   "execution_count": 3,
   "metadata": {},
   "outputs": [],
   "source": [
    "import os\n",
    "import sys\n",
    "\n",
    "storage_path = os.path.abspath(\"../storages\")\n",
    "llm_response_path = os.path.abspath(\"../process\")\n",
    "summarization_path = os.path.abspath(\"../summarization\")\n",
    "sys.path.append(storage_path)\n",
    "sys.path.append(llm_response_path)\n",
    "sys.path.append(summarization_path)"
   ]
  },
  {
   "cell_type": "code",
   "execution_count": 4,
   "metadata": {},
   "outputs": [],
   "source": [
    "from openai import OpenAI\n",
    "from dotenv import load_dotenv\n",
    "from process import generate_response_without_context\n",
    "import pandas as pd\n",
    "from evaluation import PubmedQAEvaluation"
   ]
  },
  {
   "cell_type": "markdown",
   "metadata": {},
   "source": [
    "# 1. Baseline (no context)"
   ]
  },
  {
   "cell_type": "code",
   "execution_count": null,
   "metadata": {},
   "outputs": [
    {
     "name": "stderr",
     "output_type": "stream",
     "text": [
      "100%|██████████| 500/500 [04:45<00:00,  1.75it/s]\n"
     ]
    }
   ],
   "source": [
    "evaluator = PubmedQAEvaluation()\n",
    "records = evaluator.evaluate('/s3/misha/data_dir/MedRAG/evaluation/df_test_sampled.csv')"
   ]
  },
  {
   "cell_type": "code",
   "execution_count": null,
   "metadata": {},
   "outputs": [],
   "source": [
    "df_results_no_context = pd.DataFrame(records)\n",
    "df_results_no_context.to_csv('/s3/misha/data_dir/MedRAG/evaluation/results/baseline.csv', index=False)"
   ]
  },
  {
   "cell_type": "code",
   "execution_count": 12,
   "metadata": {},
   "outputs": [],
   "source": [
    "df_results_no_context = pd.read_csv('/s3/misha/data_dir/MedRAG/evaluation/results/baseline.csv')\n",
    "df_results_no_context['binary_label'] = df_results_no_context['label'].map({'yes': 1, 'no': 0})\n",
    "df_results_no_context['binary_pred'] = df_results_no_context['pred'].map({'yes': 1, 'no': 0})"
   ]
  },
  {
   "cell_type": "code",
   "execution_count": 13,
   "metadata": {},
   "outputs": [
    {
     "data": {
      "text/html": [
       "<div>\n",
       "<style scoped>\n",
       "    .dataframe tbody tr th:only-of-type {\n",
       "        vertical-align: middle;\n",
       "    }\n",
       "\n",
       "    .dataframe tbody tr th {\n",
       "        vertical-align: top;\n",
       "    }\n",
       "\n",
       "    .dataframe thead th {\n",
       "        text-align: right;\n",
       "    }\n",
       "</style>\n",
       "<table border=\"1\" class=\"dataframe\">\n",
       "  <thead>\n",
       "    <tr style=\"text-align: right;\">\n",
       "      <th></th>\n",
       "      <th>QUESTION</th>\n",
       "      <th>label</th>\n",
       "      <th>pred</th>\n",
       "      <th>binary_label</th>\n",
       "      <th>binary_pred</th>\n",
       "    </tr>\n",
       "  </thead>\n",
       "  <tbody>\n",
       "    <tr>\n",
       "      <th>0</th>\n",
       "      <td>Is comparison of ( 68 ) Ga DOTATATE to 18F-FDG...</td>\n",
       "      <td>yes</td>\n",
       "      <td>yes</td>\n",
       "      <td>1</td>\n",
       "      <td>1</td>\n",
       "    </tr>\n",
       "    <tr>\n",
       "      <th>1</th>\n",
       "      <td>Do plasma phospholipids and fatty acid composi...</td>\n",
       "      <td>yes</td>\n",
       "      <td>yes</td>\n",
       "      <td>1</td>\n",
       "      <td>1</td>\n",
       "    </tr>\n",
       "    <tr>\n",
       "      <th>2</th>\n",
       "      <td>Is allergic sensitization enhanced in early li...</td>\n",
       "      <td>yes</td>\n",
       "      <td>yes</td>\n",
       "      <td>1</td>\n",
       "      <td>1</td>\n",
       "    </tr>\n",
       "    <tr>\n",
       "      <th>3</th>\n",
       "      <td>Are serum creatinine levels significantly infl...</td>\n",
       "      <td>yes</td>\n",
       "      <td>no</td>\n",
       "      <td>1</td>\n",
       "      <td>0</td>\n",
       "    </tr>\n",
       "    <tr>\n",
       "      <th>4</th>\n",
       "      <td>Does modification of Knee Flexion Angle have P...</td>\n",
       "      <td>yes</td>\n",
       "      <td>yes</td>\n",
       "      <td>1</td>\n",
       "      <td>1</td>\n",
       "    </tr>\n",
       "    <tr>\n",
       "      <th>...</th>\n",
       "      <td>...</td>\n",
       "      <td>...</td>\n",
       "      <td>...</td>\n",
       "      <td>...</td>\n",
       "      <td>...</td>\n",
       "    </tr>\n",
       "    <tr>\n",
       "      <th>495</th>\n",
       "      <td>Is tamoxifen effective in good prognosis patie...</td>\n",
       "      <td>no</td>\n",
       "      <td>yes</td>\n",
       "      <td>0</td>\n",
       "      <td>1</td>\n",
       "    </tr>\n",
       "    <tr>\n",
       "      <th>496</th>\n",
       "      <td>Does periportal fibrosis without cirrhosis aff...</td>\n",
       "      <td>no</td>\n",
       "      <td>yes</td>\n",
       "      <td>0</td>\n",
       "      <td>1</td>\n",
       "    </tr>\n",
       "    <tr>\n",
       "      <th>497</th>\n",
       "      <td>Does semen treatment with progesterone and/or ...</td>\n",
       "      <td>no</td>\n",
       "      <td>yes</td>\n",
       "      <td>0</td>\n",
       "      <td>1</td>\n",
       "    </tr>\n",
       "    <tr>\n",
       "      <th>498</th>\n",
       "      <td>Do minor protease inhibitor mutations at basel...</td>\n",
       "      <td>no</td>\n",
       "      <td>yes</td>\n",
       "      <td>0</td>\n",
       "      <td>1</td>\n",
       "    </tr>\n",
       "    <tr>\n",
       "      <th>499</th>\n",
       "      <td>Is metal-backed glenoid implant with polyethyl...</td>\n",
       "      <td>no</td>\n",
       "      <td>yes</td>\n",
       "      <td>0</td>\n",
       "      <td>1</td>\n",
       "    </tr>\n",
       "  </tbody>\n",
       "</table>\n",
       "<p>500 rows × 5 columns</p>\n",
       "</div>"
      ],
      "text/plain": [
       "                                              QUESTION label pred  \\\n",
       "0    Is comparison of ( 68 ) Ga DOTATATE to 18F-FDG...   yes  yes   \n",
       "1    Do plasma phospholipids and fatty acid composi...   yes  yes   \n",
       "2    Is allergic sensitization enhanced in early li...   yes  yes   \n",
       "3    Are serum creatinine levels significantly infl...   yes   no   \n",
       "4    Does modification of Knee Flexion Angle have P...   yes  yes   \n",
       "..                                                 ...   ...  ...   \n",
       "495  Is tamoxifen effective in good prognosis patie...    no  yes   \n",
       "496  Does periportal fibrosis without cirrhosis aff...    no  yes   \n",
       "497  Does semen treatment with progesterone and/or ...    no  yes   \n",
       "498  Do minor protease inhibitor mutations at basel...    no  yes   \n",
       "499  Is metal-backed glenoid implant with polyethyl...    no  yes   \n",
       "\n",
       "     binary_label  binary_pred  \n",
       "0               1            1  \n",
       "1               1            1  \n",
       "2               1            1  \n",
       "3               1            0  \n",
       "4               1            1  \n",
       "..            ...          ...  \n",
       "495             0            1  \n",
       "496             0            1  \n",
       "497             0            1  \n",
       "498             0            1  \n",
       "499             0            1  \n",
       "\n",
       "[500 rows x 5 columns]"
      ]
     },
     "execution_count": 13,
     "metadata": {},
     "output_type": "execute_result"
    }
   ],
   "source": [
    "df_results_no_context"
   ]
  },
  {
   "cell_type": "code",
   "execution_count": 15,
   "metadata": {},
   "outputs": [],
   "source": [
    "labels_no_context = df_results_no_context['binary_label'].values\n",
    "preds_no_context = df_results_no_context['binary_pred'].values"
   ]
  },
  {
   "cell_type": "code",
   "execution_count": 21,
   "metadata": {},
   "outputs": [
    {
     "data": {
      "image/png": "[encoded data removed]",
      "text/plain": [
       "<Figure size 640x480 with 2 Axes>"
      ]
     },
     "metadata": {},
     "output_type": "display_data"
    }
   ],
   "source": [
    "from sklearn.metrics import confusion_matrix, ConfusionMatrixDisplay\n",
    "import numpy as np\n",
    "import matplotlib.pyplot as plt\n",
    "\n",
    "cm = confusion_matrix(labels_no_context, preds_no_context)\n",
    "disp = ConfusionMatrixDisplay(confusion_matrix=cm, display_labels=np.unique(labels_no_context))\n",
    "disp.plot(cmap=plt.cm.Blues)\n",
    "plt.title(\"Confusion Matrix\")\n",
    "plt.show()"
   ]
  },
  {
   "cell_type": "code",
   "execution_count": 35,
   "metadata": {},
   "outputs": [
    {
     "name": "stdout",
     "output_type": "stream",
     "text": [
      "accuracy 0.564\n",
      "precision 0.5373831775700935\n",
      "recall 0.92\n",
      "f1 0.6784660766961652\n"
     ]
    }
   ],
   "source": [
    "from sklearn.metrics import precision_score, recall_score, f1_score, accuracy_score\n",
    "\n",
    "print('accuracy', accuracy_score(labels_no_context, preds_no_context))\n",
    "print('precision', precision_score(labels_no_context, preds_no_context))\n",
    "print('recall', recall_score(labels_no_context, preds_no_context))\n",
    "print('f1', f1_score(labels_no_context, preds_no_context))"
   ]
  },
  {
   "cell_type": "code",
   "execution_count": null,
   "metadata": {},
   "outputs": [],
   "source": []
  },
  {
   "cell_type": "markdown",
   "metadata": {},
   "source": [
    "# 2. QA with context"
   ]
  },
  {
   "cell_type": "code",
   "execution_count": 36,
   "metadata": {},
   "outputs": [
    {
     "name": "stderr",
     "output_type": "stream",
     "text": [
      "100%|██████████| 500/500 [03:25<00:00,  2.43it/s]\n"
     ]
    }
   ],
   "source": [
    "from pipeline import MedRAGPipeline\n",
    "medrag_processor = MedRAGPipeline()\n",
    "\n",
    "evaluator = PubmedQAEvaluation(medrag_processor)\n",
    "records = evaluator.evaluate('/s3/misha/data_dir/MedRAG/evaluation/df_test_sampled.csv', is_with_context=True)"
   ]
  },
  {
   "cell_type": "code",
   "execution_count": 37,
   "metadata": {},
   "outputs": [],
   "source": [
    "df_results_with_context = pd.DataFrame(records)\n",
    "df_results_with_context.to_csv('/s3/misha/data_dir/MedRAG/evaluation/results/medrag.csv', index=False)"
   ]
  },
  {
   "cell_type": "code",
   "execution_count": 38,
   "metadata": {},
   "outputs": [],
   "source": [
    "df_results_with_context = pd.read_csv('/s3/misha/data_dir/MedRAG/evaluation/results/medrag.csv')\n",
    "df_results_with_context['binary_label'] = df_results_with_context['label'].map({'yes': 1, 'no': 0})\n",
    "df_results_with_context['binary_pred'] = df_results_with_context['pred'].map({'yes': 1, 'no': 0})"
   ]
  },
  {
   "cell_type": "code",
   "execution_count": 39,
   "metadata": {},
   "outputs": [],
   "source": [
    "labels_with_context = df_results_with_context['binary_label'].values\n",
    "preds_with_context = df_results_with_context['binary_pred'].values"
   ]
  },
  {
   "cell_type": "code",
   "execution_count": 40,
   "metadata": {},
   "outputs": [
    {
     "data": {
      "image/png": "[encoded data removed]",
      "text/plain": [
       "<Figure size 640x480 with 2 Axes>"
      ]
     },
     "metadata": {},
     "output_type": "display_data"
    }
   ],
   "source": [
    "from sklearn.metrics import confusion_matrix, ConfusionMatrixDisplay\n",
    "import numpy as np\n",
    "import matplotlib.pyplot as plt\n",
    "\n",
    "cm = confusion_matrix(labels_with_context, preds_with_context)\n",
    "disp = ConfusionMatrixDisplay(confusion_matrix=cm, display_labels=np.unique(labels_no_context))\n",
    "disp.plot(cmap=plt.cm.Blues)\n",
    "plt.title(\"Confusion Matrix\")\n",
    "plt.show()"
   ]
  },
  {
   "cell_type": "code",
   "execution_count": 41,
   "metadata": {},
   "outputs": [
    {
     "name": "stdout",
     "output_type": "stream",
     "text": [
      "accuracy 0.504\n",
      "precision 0.5172413793103449\n",
      "recall 0.12\n",
      "f1 0.19480519480519481\n"
     ]
    }
   ],
   "source": [
    "from sklearn.metrics import accuracy_score, precision_score, recall_score, f1_score\n",
    "\n",
    "print('accuracy', accuracy_score(labels_with_context, preds_with_context))\n",
    "print('precision', precision_score(labels_with_context, preds_with_context))\n",
    "print('recall', recall_score(labels_with_context, preds_with_context))\n",
    "print('f1', f1_score(labels_with_context, preds_with_context))"
   ]
  },
  {
   "cell_type": "code",
   "execution_count": null,
   "metadata": {},
   "outputs": [],
   "source": []
  }
 ],
 "metadata": {
  "kernelspec": {
   "display_name": ".venv",
   "language": "python",
   "name": "python3"
  },
  "language_info": {
   "codemirror_mode": {
    "name": "ipython",
    "version": 3
   },
   "file_extension": ".py",
   "mimetype": "text/x-python",
   "name": "python",
   "nbconvert_exporter": "python",
   "pygments_lexer": "ipython3",
   "version": "3.10.12"
  }
 },
 "nbformat": 4,
 "nbformat_minor": 2
}
