{
 "cells": [
  {
   "cell_type": "code",
   "execution_count": 1,
   "metadata": {},
   "outputs": [],
   "source": [
    "%load_ext autoreload\n",
    "%autoreload 2"
   ]
  },
  {
   "cell_type": "code",
   "execution_count": 2,
   "metadata": {},
   "outputs": [],
   "source": [
    "import sys\n",
    "from pathlib import Path\n",
    "\n",
    "sys.path.append(str(Path.cwd().parent))"
   ]
  },
  {
   "cell_type": "code",
   "execution_count": 3,
   "metadata": {},
   "outputs": [],
   "source": [
    "import os\n",
    "import sys\n",
    "\n",
    "storage_path = os.path.abspath(\"../storages\")\n",
    "llm_response_path = os.path.abspath(\"../process\")\n",
    "summarization_path = os.path.abspath(\"../summarization\")\n",
    "sys.path.append(storage_path)\n",
    "sys.path.append(llm_response_path)\n",
    "sys.path.append(summarization_path)"
   ]
  },
  {
   "cell_type": "code",
   "execution_count": 4,
   "metadata": {},
   "outputs": [],
   "source": [
    "import pandas as pd\n",
    "from evaluation import PubmedQAEvaluation"
   ]
  },
  {
   "cell_type": "markdown",
   "metadata": {},
   "source": [
    "# 1. Baseline (no context)"
   ]
  },
  {
   "cell_type": "code",
   "execution_count": 5,
   "metadata": {},
   "outputs": [
    {
     "name": "stderr",
     "output_type": "stream",
     "text": [
      "/home/mikhail/.venv/lib/python3.10/site-packages/tqdm/auto.py:21: TqdmWarning: IProgress not found. Please update jupyter and ipywidgets. See https://ipywidgets.readthedocs.io/en/stable/user_install.html\n",
      "  from .autonotebook import tqdm as notebook_tqdm\n"
     ]
    }
   ],
   "source": [
    "medrag_processor = MedRAGPipeline()"
   ]
  },
  {
   "cell_type": "code",
   "execution_count": 10,
   "metadata": {},
   "outputs": [
    {
     "name": "stderr",
     "output_type": "stream",
     "text": [
      "  0%|          | 0/500 [00:00<?, ?it/s]"
     ]
    },
    {
     "name": "stderr",
     "output_type": "stream",
     "text": [
      "100%|██████████| 500/500 [00:30<00:00, 16.16it/s]\n"
     ]
    }
   ],
   "source": [
    "evaluator = PubmedQAEvaluation(medrag_processor)\n",
    "records = evaluator.evaluate('/s3/misha/data_dir/MedRAG/evaluation/df_test_sampled.csv', model_name='llama')\n"
   ]
  },
  {
   "cell_type": "code",
   "execution_count": 11,
   "metadata": {},
   "outputs": [],
   "source": [
    "df_results_no_context = pd.DataFrame(records)\n",
    "df_results_no_context.to_csv('/s3/misha/data_dir/MedRAG/evaluation/results/baseline_ollama.csv', index=False)"
   ]
  },
  {
   "cell_type": "code",
   "execution_count": 12,
   "metadata": {},
   "outputs": [],
   "source": [
    "df_results_no_context = pd.read_csv('/s3/misha/data_dir/MedRAG/evaluation/results/baseline_ollama.csv')\n",
    "df_results_no_context['binary_label'] = df_results_no_context['label'].map({'yes': 1, 'no': 0})\n",
    "df_results_no_context['binary_pred'] = df_results_no_context['pred'].map({'yes': 1, 'no': 0})"
   ]
  },
  {
   "cell_type": "code",
   "execution_count": 13,
   "metadata": {},
   "outputs": [
    {
     "data": {
      "text/html": [
       "<div>\n",
       "<style scoped>\n",
       "    .dataframe tbody tr th:only-of-type {\n",
       "        vertical-align: middle;\n",
       "    }\n",
       "\n",
       "    .dataframe tbody tr th {\n",
       "        vertical-align: top;\n",
       "    }\n",
       "\n",
       "    .dataframe thead th {\n",
       "        text-align: right;\n",
       "    }\n",
       "</style>\n",
       "<table border=\"1\" class=\"dataframe\">\n",
       "  <thead>\n",
       "    <tr style=\"text-align: right;\">\n",
       "      <th></th>\n",
       "      <th>QUESTION</th>\n",
       "      <th>label</th>\n",
       "      <th>pred</th>\n",
       "      <th>binary_label</th>\n",
       "      <th>binary_pred</th>\n",
       "    </tr>\n",
       "  </thead>\n",
       "  <tbody>\n",
       "    <tr>\n",
       "      <th>0</th>\n",
       "      <td>Is comparison of ( 68 ) Ga DOTATATE to 18F-FDG...</td>\n",
       "      <td>yes</td>\n",
       "      <td>yes</td>\n",
       "      <td>1</td>\n",
       "      <td>1</td>\n",
       "    </tr>\n",
       "    <tr>\n",
       "      <th>1</th>\n",
       "      <td>Do plasma phospholipids and fatty acid composi...</td>\n",
       "      <td>yes</td>\n",
       "      <td>yes</td>\n",
       "      <td>1</td>\n",
       "      <td>1</td>\n",
       "    </tr>\n",
       "    <tr>\n",
       "      <th>2</th>\n",
       "      <td>Is allergic sensitization enhanced in early li...</td>\n",
       "      <td>yes</td>\n",
       "      <td>yes</td>\n",
       "      <td>1</td>\n",
       "      <td>1</td>\n",
       "    </tr>\n",
       "    <tr>\n",
       "      <th>3</th>\n",
       "      <td>Are serum creatinine levels significantly infl...</td>\n",
       "      <td>yes</td>\n",
       "      <td>no</td>\n",
       "      <td>1</td>\n",
       "      <td>0</td>\n",
       "    </tr>\n",
       "    <tr>\n",
       "      <th>4</th>\n",
       "      <td>Does modification of Knee Flexion Angle have P...</td>\n",
       "      <td>yes</td>\n",
       "      <td>yes</td>\n",
       "      <td>1</td>\n",
       "      <td>1</td>\n",
       "    </tr>\n",
       "    <tr>\n",
       "      <th>...</th>\n",
       "      <td>...</td>\n",
       "      <td>...</td>\n",
       "      <td>...</td>\n",
       "      <td>...</td>\n",
       "      <td>...</td>\n",
       "    </tr>\n",
       "    <tr>\n",
       "      <th>495</th>\n",
       "      <td>Is tamoxifen effective in good prognosis patie...</td>\n",
       "      <td>no</td>\n",
       "      <td>no</td>\n",
       "      <td>0</td>\n",
       "      <td>0</td>\n",
       "    </tr>\n",
       "    <tr>\n",
       "      <th>496</th>\n",
       "      <td>Does periportal fibrosis without cirrhosis aff...</td>\n",
       "      <td>no</td>\n",
       "      <td>no</td>\n",
       "      <td>0</td>\n",
       "      <td>0</td>\n",
       "    </tr>\n",
       "    <tr>\n",
       "      <th>497</th>\n",
       "      <td>Does semen treatment with progesterone and/or ...</td>\n",
       "      <td>no</td>\n",
       "      <td>no</td>\n",
       "      <td>0</td>\n",
       "      <td>0</td>\n",
       "    </tr>\n",
       "    <tr>\n",
       "      <th>498</th>\n",
       "      <td>Do minor protease inhibitor mutations at basel...</td>\n",
       "      <td>no</td>\n",
       "      <td>no</td>\n",
       "      <td>0</td>\n",
       "      <td>0</td>\n",
       "    </tr>\n",
       "    <tr>\n",
       "      <th>499</th>\n",
       "      <td>Is metal-backed glenoid implant with polyethyl...</td>\n",
       "      <td>no</td>\n",
       "      <td>yes</td>\n",
       "      <td>0</td>\n",
       "      <td>1</td>\n",
       "    </tr>\n",
       "  </tbody>\n",
       "</table>\n",
       "<p>500 rows × 5 columns</p>\n",
       "</div>"
      ],
      "text/plain": [
       "                                              QUESTION label pred  \\\n",
       "0    Is comparison of ( 68 ) Ga DOTATATE to 18F-FDG...   yes  yes   \n",
       "1    Do plasma phospholipids and fatty acid composi...   yes  yes   \n",
       "2    Is allergic sensitization enhanced in early li...   yes  yes   \n",
       "3    Are serum creatinine levels significantly infl...   yes   no   \n",
       "4    Does modification of Knee Flexion Angle have P...   yes  yes   \n",
       "..                                                 ...   ...  ...   \n",
       "495  Is tamoxifen effective in good prognosis patie...    no   no   \n",
       "496  Does periportal fibrosis without cirrhosis aff...    no   no   \n",
       "497  Does semen treatment with progesterone and/or ...    no   no   \n",
       "498  Do minor protease inhibitor mutations at basel...    no   no   \n",
       "499  Is metal-backed glenoid implant with polyethyl...    no  yes   \n",
       "\n",
       "     binary_label  binary_pred  \n",
       "0               1            1  \n",
       "1               1            1  \n",
       "2               1            1  \n",
       "3               1            0  \n",
       "4               1            1  \n",
       "..            ...          ...  \n",
       "495             0            0  \n",
       "496             0            0  \n",
       "497             0            0  \n",
       "498             0            0  \n",
       "499             0            1  \n",
       "\n",
       "[500 rows x 5 columns]"
      ]
     },
     "execution_count": 13,
     "metadata": {},
     "output_type": "execute_result"
    }
   ],
   "source": [
    "df_results_no_context"
   ]
  },
  {
   "cell_type": "code",
   "execution_count": 14,
   "metadata": {},
   "outputs": [],
   "source": [
    "labels_no_context = df_results_no_context['binary_label'].values\n",
    "preds_no_context = df_results_no_context['binary_pred'].values"
   ]
  },
  {
   "cell_type": "code",
   "execution_count": 15,
   "metadata": {},
   "outputs": [
    {
     "data": {
      "image/png": "[encoded data removed]",
      "text/plain": [
       "<Figure size 640x480 with 2 Axes>"
      ]
     },
     "metadata": {},
     "output_type": "display_data"
    }
   ],
   "source": [
    "from sklearn.metrics import confusion_matrix, ConfusionMatrixDisplay\n",
    "import numpy as np\n",
    "import matplotlib.pyplot as plt\n",
    "\n",
    "cm = confusion_matrix(labels_no_context, preds_no_context)\n",
    "disp = ConfusionMatrixDisplay(confusion_matrix=cm, display_labels=np.unique(labels_no_context))\n",
    "disp.plot(cmap=plt.cm.Blues)\n",
    "plt.title(\"Confusion Matrix\")\n",
    "plt.show()"
   ]
  },
  {
   "cell_type": "code",
   "execution_count": 16,
   "metadata": {},
   "outputs": [
    {
     "name": "stdout",
     "output_type": "stream",
     "text": [
      "accuracy 0.584\n",
      "precision 0.6039603960396039\n",
      "recall 0.488\n",
      "f1 0.5398230088495575\n"
     ]
    }
   ],
   "source": [
    "from sklearn.metrics import precision_score, recall_score, f1_score, accuracy_score\n",
    "\n",
    "print('accuracy', accuracy_score(labels_no_context, preds_no_context))\n",
    "print('precision', precision_score(labels_no_context, preds_no_context))\n",
    "print('recall', recall_score(labels_no_context, preds_no_context))\n",
    "print('f1', f1_score(labels_no_context, preds_no_context))"
   ]
  },
  {
   "cell_type": "code",
   "execution_count": null,
   "metadata": {},
   "outputs": [],
   "source": []
  },
  {
   "cell_type": "markdown",
   "metadata": {},
   "source": [
    "# 2. QA with context"
   ]
  },
  {
   "cell_type": "code",
   "execution_count": null,
   "metadata": {},
   "outputs": [
    {
     "name": "stderr",
     "output_type": "stream",
     "text": [
      "100%|██████████| 500/500 [09:21<00:00,  1.12s/it]\n"
     ]
    }
   ],
   "source": [
    "from pipeline import MedRAGPipeline\n",
    "medrag_processor = MedRAGPipeline()\n",
    "\n",
    "evaluator = PubmedQAEvaluation(medrag_processor)\n",
    "records = evaluator.evaluate('/s3/misha/data_dir/MedRAG/evaluation/df_test_sampled.csv', is_with_context=True, model_name='llama')"
   ]
  },
  {
   "cell_type": "code",
   "execution_count": 7,
   "metadata": {},
   "outputs": [],
   "source": [
    "df_results_with_context = pd.DataFrame(records)\n",
    "df_results_with_context.to_csv('/s3/misha/data_dir/MedRAG/evaluation/results/medrag_ollama.csv', index=False)"
   ]
  },
  {
   "cell_type": "code",
   "execution_count": 8,
   "metadata": {},
   "outputs": [],
   "source": [
    "df_results_with_context = pd.read_csv('/s3/misha/data_dir/MedRAG/evaluation/results/medrag_ollama.csv')\n",
    "df_results_with_context['binary_label'] = df_results_with_context['label'].map({'yes': 1, 'no': 0})\n",
    "df_results_with_context['binary_pred'] = df_results_with_context['pred'].map({'yes': 1, 'no': 0})"
   ]
  },
  {
   "cell_type": "code",
   "execution_count": 9,
   "metadata": {},
   "outputs": [],
   "source": [
    "labels_with_context = df_results_with_context['binary_label'].values\n",
    "preds_with_context = df_results_with_context['binary_pred'].values"
   ]
  },
  {
   "cell_type": "code",
   "execution_count": 14,
   "metadata": {},
   "outputs": [
    {
     "data": {
      "text/plain": [
       "pred\n",
       "no     442\n",
       "yes     58\n",
       "Name: count, dtype: int64"
      ]
     },
     "execution_count": 14,
     "metadata": {},
     "output_type": "execute_result"
    }
   ],
   "source": [
    "df_results_with_context['pred'].value_counts()"
   ]
  },
  {
   "cell_type": "code",
   "execution_count": 11,
   "metadata": {},
   "outputs": [
    {
     "data": {
      "image/png": "[encoded data removed]",
      "text/plain": [
       "<Figure size 640x480 with 2 Axes>"
      ]
     },
     "metadata": {},
     "output_type": "display_data"
    }
   ],
   "source": [
    "from sklearn.metrics import confusion_matrix, ConfusionMatrixDisplay\n",
    "import numpy as np\n",
    "import matplotlib.pyplot as plt\n",
    "\n",
    "cm = confusion_matrix(labels_with_context, preds_with_context)\n",
    "disp = ConfusionMatrixDisplay(confusion_matrix=cm, display_labels=np.unique(labels_with_context))\n",
    "disp.plot(cmap=plt.cm.Blues)\n",
    "plt.title(\"Confusion Matrix\")\n",
    "plt.show()"
   ]
  },
  {
   "cell_type": "code",
   "execution_count": 12,
   "metadata": {},
   "outputs": [
    {
     "name": "stdout",
     "output_type": "stream",
     "text": [
      "accuracy 0.524\n",
      "precision 0.603448275862069\n",
      "recall 0.14\n",
      "f1 0.22727272727272727\n"
     ]
    }
   ],
   "source": [
    "from sklearn.metrics import accuracy_score, precision_score, recall_score, f1_score\n",
    "\n",
    "print('accuracy', accuracy_score(labels_with_context, preds_with_context))\n",
    "print('precision', precision_score(labels_with_context, preds_with_context))\n",
    "print('recall', recall_score(labels_with_context, preds_with_context))\n",
    "print('f1', f1_score(labels_with_context, preds_with_context))"
   ]
  },
  {
   "cell_type": "code",
   "execution_count": null,
   "metadata": {},
   "outputs": [],
   "source": []
  },
  {
   "cell_type": "markdown",
   "metadata": {},
   "source": [
    "# 3. Let's check if ollama can perform well while using pre-defined context"
   ]
  },
  {
   "cell_type": "code",
   "execution_count": 6,
   "metadata": {},
   "outputs": [],
   "source": [
    "df_test = pd.read_csv('/s3/misha/data_dir/MedRAG/evaluation/df_test_sampled.csv')\n",
    "df_test['CONTEXTS'] = df_test['CONTEXTS'].apply(eval)"
   ]
  },
  {
   "cell_type": "code",
   "execution_count": 30,
   "metadata": {},
   "outputs": [
    {
     "data": {
      "text/html": [
       "<div>\n",
       "<style scoped>\n",
       "    .dataframe tbody tr th:only-of-type {\n",
       "        vertical-align: middle;\n",
       "    }\n",
       "\n",
       "    .dataframe tbody tr th {\n",
       "        vertical-align: top;\n",
       "    }\n",
       "\n",
       "    .dataframe thead th {\n",
       "        text-align: right;\n",
       "    }\n",
       "</style>\n",
       "<table border=\"1\" class=\"dataframe\">\n",
       "  <thead>\n",
       "    <tr style=\"text-align: right;\">\n",
       "      <th></th>\n",
       "      <th>QUESTION</th>\n",
       "      <th>CONTEXTS</th>\n",
       "      <th>LABELS</th>\n",
       "      <th>LONG_ANSWER</th>\n",
       "      <th>MESHES</th>\n",
       "      <th>final_decision</th>\n",
       "    </tr>\n",
       "  </thead>\n",
       "  <tbody>\n",
       "    <tr>\n",
       "      <th>0</th>\n",
       "      <td>Is comparison of ( 68 ) Ga DOTATATE to 18F-FDG...</td>\n",
       "      <td>[The evaluation of the remaining pituitary tis...</td>\n",
       "      <td>['OBJECTIVE', 'METHODS', 'RESULTS']</td>\n",
       "      <td>Different degree of uptake of Ga DOTATATE and ...</td>\n",
       "      <td>['Adenoma', 'Adult', 'Cicatrix', 'Female', 'Fl...</td>\n",
       "      <td>yes</td>\n",
       "    </tr>\n",
       "    <tr>\n",
       "      <th>1</th>\n",
       "      <td>Do plasma phospholipids and fatty acid composi...</td>\n",
       "      <td>[There is growing evidence that nonalcoholic f...</td>\n",
       "      <td>['BACKGROUND', 'OBJECTIVE', 'METHODS', 'RESULTS']</td>\n",
       "      <td>The present study demonstrates that there is a...</td>\n",
       "      <td>['Adult', 'Cross-Sectional Studies', 'Fatty Ac...</td>\n",
       "      <td>yes</td>\n",
       "    </tr>\n",
       "  </tbody>\n",
       "</table>\n",
       "</div>"
      ],
      "text/plain": [
       "                                            QUESTION  \\\n",
       "0  Is comparison of ( 68 ) Ga DOTATATE to 18F-FDG...   \n",
       "1  Do plasma phospholipids and fatty acid composi...   \n",
       "\n",
       "                                            CONTEXTS  \\\n",
       "0  [The evaluation of the remaining pituitary tis...   \n",
       "1  [There is growing evidence that nonalcoholic f...   \n",
       "\n",
       "                                              LABELS  \\\n",
       "0                ['OBJECTIVE', 'METHODS', 'RESULTS']   \n",
       "1  ['BACKGROUND', 'OBJECTIVE', 'METHODS', 'RESULTS']   \n",
       "\n",
       "                                         LONG_ANSWER  \\\n",
       "0  Different degree of uptake of Ga DOTATATE and ...   \n",
       "1  The present study demonstrates that there is a...   \n",
       "\n",
       "                                              MESHES final_decision  \n",
       "0  ['Adenoma', 'Adult', 'Cicatrix', 'Female', 'Fl...            yes  \n",
       "1  ['Adult', 'Cross-Sectional Studies', 'Fatty Ac...            yes  "
      ]
     },
     "execution_count": 30,
     "metadata": {},
     "output_type": "execute_result"
    }
   ],
   "source": [
    "df_test.head(2)"
   ]
  },
  {
   "cell_type": "code",
   "execution_count": 29,
   "metadata": {},
   "outputs": [
    {
     "data": {
      "text/plain": [
       "4"
      ]
     },
     "execution_count": 29,
     "metadata": {},
     "output_type": "execute_result"
    }
   ],
   "source": [
    "len(df_test.loc[1, 'CONTEXTS'])"
   ]
  },
  {
   "cell_type": "code",
   "execution_count": 31,
   "metadata": {},
   "outputs": [
    {
     "name": "stderr",
     "output_type": "stream",
     "text": [
      "  0%|          | 0/500 [00:00<?, ?it/s]"
     ]
    },
    {
     "name": "stderr",
     "output_type": "stream",
     "text": [
      "100%|██████████| 500/500 [01:43<00:00,  4.84it/s]\n"
     ]
    }
   ],
   "source": [
    "from process import ollama_response_with_context\n",
    "from tqdm import tqdm\n",
    "\n",
    "labels = []\n",
    "preds = []\n",
    "\n",
    "for index, value in tqdm(df_test.iterrows(), total=len(df_test)):\n",
    "    question = value['QUESTION']\n",
    "    combined_string = \" \".join(value['CONTEXTS'])\n",
    "\n",
    "    response = ollama_response_with_context(question, combined_string)\n",
    "\n",
    "    labels.append(value['final_decision'])\n",
    "    preds.append(response)"
   ]
  },
  {
   "cell_type": "code",
   "execution_count": 35,
   "metadata": {},
   "outputs": [],
   "source": [
    "for i in range(len(preds)):\n",
    "    preds[i] = preds[i].replace('.', '')"
   ]
  },
  {
   "cell_type": "code",
   "execution_count": 36,
   "metadata": {},
   "outputs": [
    {
     "data": {
      "text/plain": [
       "(array(['no', 'yes'], dtype='<U3'), array([250, 250]))"
      ]
     },
     "execution_count": 36,
     "metadata": {},
     "output_type": "execute_result"
    }
   ],
   "source": [
    "np.unique(np.array(labels), return_counts=True)"
   ]
  },
  {
   "cell_type": "code",
   "execution_count": 37,
   "metadata": {},
   "outputs": [
    {
     "data": {
      "text/plain": [
       "(array(['no', 'yes'], dtype='<U3'), array([266, 234]))"
      ]
     },
     "execution_count": 37,
     "metadata": {},
     "output_type": "execute_result"
    }
   ],
   "source": [
    "np.unique(np.array(preds), return_counts=True)"
   ]
  },
  {
   "cell_type": "code",
   "execution_count": 38,
   "metadata": {},
   "outputs": [],
   "source": [
    "binary_labels = [1 if item == \"yes\" else 0 for item in labels]\n",
    "binary_preds = [1 if item == \"yes\" else 0 for item in preds]"
   ]
  },
  {
   "cell_type": "code",
   "execution_count": 39,
   "metadata": {},
   "outputs": [
    {
     "data": {
      "image/png": "[encoded data removed]",
      "text/plain": [
       "<Figure size 640x480 with 2 Axes>"
      ]
     },
     "metadata": {},
     "output_type": "display_data"
    }
   ],
   "source": [
    "from sklearn.metrics import confusion_matrix, ConfusionMatrixDisplay\n",
    "import numpy as np\n",
    "import matplotlib.pyplot as plt\n",
    "\n",
    "cm = confusion_matrix(binary_labels, binary_preds)\n",
    "disp = ConfusionMatrixDisplay(confusion_matrix=cm, display_labels=np.unique(binary_labels))\n",
    "disp.plot(cmap=plt.cm.Blues)\n",
    "plt.title(\"Confusion Matrix\")\n",
    "plt.show()"
   ]
  },
  {
   "cell_type": "code",
   "execution_count": 40,
   "metadata": {},
   "outputs": [
    {
     "name": "stdout",
     "output_type": "stream",
     "text": [
      "accuracy 0.816\n",
      "precision 0.8376068376068376\n",
      "recall 0.784\n",
      "f1 0.8099173553719008\n"
     ]
    }
   ],
   "source": [
    "from sklearn.metrics import accuracy_score, precision_score, recall_score, f1_score\n",
    "\n",
    "print('accuracy', accuracy_score(binary_labels, binary_preds))\n",
    "print('precision', precision_score(binary_labels, binary_preds))\n",
    "print('recall', recall_score(binary_labels, binary_preds))\n",
    "print('f1', f1_score(binary_labels, binary_preds))"
   ]
  },
  {
   "cell_type": "code",
   "execution_count": null,
   "metadata": {},
   "outputs": [],
   "source": []
  },
  {
   "cell_type": "code",
   "execution_count": null,
   "metadata": {},
   "outputs": [],
   "source": []
  },
  {
   "cell_type": "markdown",
   "metadata": {},
   "source": [
    "# 4. Ollama + articles extracted from pubmed using keyword search"
   ]
  },
  {
   "cell_type": "code",
   "execution_count": 5,
   "metadata": {},
   "outputs": [],
   "source": [
    "df_test = pd.read_csv('/s3/misha/data_dir/MedRAG/evaluation/df_test_sampled.csv')\n",
    "df_test['CONTEXTS'] = df_test['CONTEXTS'].apply(eval)"
   ]
  },
  {
   "cell_type": "code",
   "execution_count": 6,
   "metadata": {},
   "outputs": [
    {
     "data": {
      "text/plain": [
       "'Is comparison of ( 68 ) Ga DOTATATE to 18F-FDG uptake useful in the differentiation of residual or recurrent pituitary adenoma from the remaining pituitary tissue after transsphenoidal adenomectomy?'"
      ]
     },
     "execution_count": 6,
     "metadata": {},
     "output_type": "execute_result"
    }
   ],
   "source": [
    "df_test['QUESTION'][0]"
   ]
  },
  {
   "cell_type": "code",
   "execution_count": null,
   "metadata": {},
   "outputs": [],
   "source": [
    "from process.articles_extraction import SummarizedArticlesExtractor\n",
    "from process import ollama_response_with_context\n",
    "from tqdm import tqdm\n",
    "\n",
    "labels = []\n",
    "preds = []\n",
    "\n",
    "summarized_articles_extractor = SummarizedArticlesExtractor()\n",
    "\n",
    "for index, value in tqdm(df_test.iterrows(), total=len(df_test)):\n",
    "    question = value['QUESTION']\n",
    "    context = summarized_articles_extractor.process(question, task='qa')\n",
    "    response = ollama_response_with_context(question, context)\n",
    "\n",
    "    labels.append(value['final_decision'])\n",
    "    preds.append(response)\n",
    "\n",
    "    print(f'label: {value[\"final_decision\"]}, pred: {response}')"
   ]
  },
  {
   "cell_type": "code",
   "execution_count": 10,
   "metadata": {},
   "outputs": [
    {
     "data": {
      "text/plain": [
       "'Does platelet-rich plasma increase transforming growth factor-beta1 expression at graft-host interface following autologous osteochondral transplantation in a rabbit model?'"
      ]
     },
     "execution_count": 10,
     "metadata": {},
     "output_type": "execute_result"
    }
   ],
   "source": [
    "df_test['QUESTION'][6]"
   ]
  },
  {
   "cell_type": "code",
   "execution_count": null,
   "metadata": {},
   "outputs": [],
   "source": []
  }
 ],
 "metadata": {
  "kernelspec": {
   "display_name": ".venv",
   "language": "python",
   "name": "python3"
  },
  "language_info": {
   "codemirror_mode": {
    "name": "ipython",
    "version": 3
   },
   "file_extension": ".py",
   "mimetype": "text/x-python",
   "name": "python",
   "nbconvert_exporter": "python",
   "pygments_lexer": "ipython3",
   "version": "3.10.12"
  }
 },
 "nbformat": 4,
 "nbformat_minor": 2
}
