{
 "cells": [
  {
   "cell_type": "code",
   "execution_count": 1,
   "metadata": {},
   "outputs": [],
   "source": [
    "%load_ext autoreload\n",
    "%autoreload 2"
   ]
  },
  {
   "cell_type": "code",
   "execution_count": 2,
   "metadata": {},
   "outputs": [],
   "source": [
    "import os\n",
    "import sys\n",
    " \n",
    "storage_path = os.path.abspath(\"../storages\")\n",
    "sys.path.append(storage_path)"
   ]
  },
  {
   "cell_type": "code",
   "execution_count": 50,
   "metadata": {},
   "outputs": [
    {
     "data": {
      "text/html": [
       "<div>\n",
       "<style scoped>\n",
       "    .dataframe tbody tr th:only-of-type {\n",
       "        vertical-align: middle;\n",
       "    }\n",
       "\n",
       "    .dataframe tbody tr th {\n",
       "        vertical-align: top;\n",
       "    }\n",
       "\n",
       "    .dataframe thead th {\n",
       "        text-align: right;\n",
       "    }\n",
       "</style>\n",
       "<table border=\"1\" class=\"dataframe\">\n",
       "  <thead>\n",
       "    <tr style=\"text-align: right;\">\n",
       "      <th></th>\n",
       "      <th>id</th>\n",
       "      <th>title</th>\n",
       "      <th>content</th>\n",
       "      <th>contents</th>\n",
       "      <th>PMID</th>\n",
       "    </tr>\n",
       "  </thead>\n",
       "  <tbody>\n",
       "    <tr>\n",
       "      <th>0</th>\n",
       "      <td>pubmed23n0001_0</td>\n",
       "      <td>[Biochemical studies on camomile components/II...</td>\n",
       "      <td>(--)-alpha-Bisabolol has a primary antipeptic ...</td>\n",
       "      <td>[Biochemical studies on camomile components/II...</td>\n",
       "      <td>21</td>\n",
       "    </tr>\n",
       "    <tr>\n",
       "      <th>1</th>\n",
       "      <td>pubmed23n0001_1</td>\n",
       "      <td>[Demonstration of tumor inhibiting properties ...</td>\n",
       "      <td>A report is given on the recent discovery of o...</td>\n",
       "      <td>[Demonstration of tumor inhibiting properties ...</td>\n",
       "      <td>22</td>\n",
       "    </tr>\n",
       "    <tr>\n",
       "      <th>2</th>\n",
       "      <td>pubmed23n0001_2</td>\n",
       "      <td>Effect of etafenone on total and regional myoc...</td>\n",
       "      <td>The distribution of blood flow to the subendoc...</td>\n",
       "      <td>Effect of etafenone on total and regional myoc...</td>\n",
       "      <td>23</td>\n",
       "    </tr>\n",
       "    <tr>\n",
       "      <th>3</th>\n",
       "      <td>pubmed23n0001_3</td>\n",
       "      <td>Influence of a new virostatic compound on the ...</td>\n",
       "      <td>The virostatic compound N,N-diethyl-4-[2-(2-ox...</td>\n",
       "      <td>Influence of a new virostatic compound on the ...</td>\n",
       "      <td>24</td>\n",
       "    </tr>\n",
       "    <tr>\n",
       "      <th>4</th>\n",
       "      <td>pubmed23n0001_4</td>\n",
       "      <td>Pharmacological properties of new neuroleptic ...</td>\n",
       "      <td>RMI 61 140, RMI 61 144 and RMI 61 280 are newl...</td>\n",
       "      <td>Pharmacological properties of new neuroleptic ...</td>\n",
       "      <td>25</td>\n",
       "    </tr>\n",
       "    <tr>\n",
       "      <th>...</th>\n",
       "      <td>...</td>\n",
       "      <td>...</td>\n",
       "      <td>...</td>\n",
       "      <td>...</td>\n",
       "      <td>...</td>\n",
       "    </tr>\n",
       "    <tr>\n",
       "      <th>999995</th>\n",
       "      <td>pubmed23n0064_491</td>\n",
       "      <td>Technical report: an injection technique for r...</td>\n",
       "      <td>Malpositioned central venous catheters need to...</td>\n",
       "      <td>Technical report: an injection technique for r...</td>\n",
       "      <td>1914400</td>\n",
       "    </tr>\n",
       "    <tr>\n",
       "      <th>999996</th>\n",
       "      <td>pubmed23n0064_492</td>\n",
       "      <td>Case report: vascular anomaly in Dieulafoy's d...</td>\n",
       "      <td>We present a case of a vascular anomaly with D...</td>\n",
       "      <td>Case report: vascular anomaly in Dieulafoy's d...</td>\n",
       "      <td>1914401</td>\n",
       "    </tr>\n",
       "    <tr>\n",
       "      <th>999997</th>\n",
       "      <td>pubmed23n0064_493</td>\n",
       "      <td>Case report: multiple intracranial hydatid cys...</td>\n",
       "      <td>A case of primary multiple intracranial hydati...</td>\n",
       "      <td>Case report: multiple intracranial hydatid cys...</td>\n",
       "      <td>1914402</td>\n",
       "    </tr>\n",
       "    <tr>\n",
       "      <th>999998</th>\n",
       "      <td>pubmed23n0064_494</td>\n",
       "      <td>Case report: cerebrospinal fluid fistula--a ra...</td>\n",
       "      <td>A case of a cerebrospinal fluid fistula develo...</td>\n",
       "      <td>Case report: cerebrospinal fluid fistula--a ra...</td>\n",
       "      <td>1914403</td>\n",
       "    </tr>\n",
       "    <tr>\n",
       "      <th>999999</th>\n",
       "      <td>pubmed23n0064_495</td>\n",
       "      <td>Case report: an oxidized cellulose granuloma--...</td>\n",
       "      <td>We report a patient who presented with right u...</td>\n",
       "      <td>Case report: an oxidized cellulose granuloma--...</td>\n",
       "      <td>1914404</td>\n",
       "    </tr>\n",
       "  </tbody>\n",
       "</table>\n",
       "<p>1000000 rows × 5 columns</p>\n",
       "</div>"
      ],
      "text/plain": [
       "                       id                                              title  \\\n",
       "0         pubmed23n0001_0  [Biochemical studies on camomile components/II...   \n",
       "1         pubmed23n0001_1  [Demonstration of tumor inhibiting properties ...   \n",
       "2         pubmed23n0001_2  Effect of etafenone on total and regional myoc...   \n",
       "3         pubmed23n0001_3  Influence of a new virostatic compound on the ...   \n",
       "4         pubmed23n0001_4  Pharmacological properties of new neuroleptic ...   \n",
       "...                   ...                                                ...   \n",
       "999995  pubmed23n0064_491  Technical report: an injection technique for r...   \n",
       "999996  pubmed23n0064_492  Case report: vascular anomaly in Dieulafoy's d...   \n",
       "999997  pubmed23n0064_493  Case report: multiple intracranial hydatid cys...   \n",
       "999998  pubmed23n0064_494  Case report: cerebrospinal fluid fistula--a ra...   \n",
       "999999  pubmed23n0064_495  Case report: an oxidized cellulose granuloma--...   \n",
       "\n",
       "                                                  content  \\\n",
       "0       (--)-alpha-Bisabolol has a primary antipeptic ...   \n",
       "1       A report is given on the recent discovery of o...   \n",
       "2       The distribution of blood flow to the subendoc...   \n",
       "3       The virostatic compound N,N-diethyl-4-[2-(2-ox...   \n",
       "4       RMI 61 140, RMI 61 144 and RMI 61 280 are newl...   \n",
       "...                                                   ...   \n",
       "999995  Malpositioned central venous catheters need to...   \n",
       "999996  We present a case of a vascular anomaly with D...   \n",
       "999997  A case of primary multiple intracranial hydati...   \n",
       "999998  A case of a cerebrospinal fluid fistula develo...   \n",
       "999999  We report a patient who presented with right u...   \n",
       "\n",
       "                                                 contents     PMID  \n",
       "0       [Biochemical studies on camomile components/II...       21  \n",
       "1       [Demonstration of tumor inhibiting properties ...       22  \n",
       "2       Effect of etafenone on total and regional myoc...       23  \n",
       "3       Influence of a new virostatic compound on the ...       24  \n",
       "4       Pharmacological properties of new neuroleptic ...       25  \n",
       "...                                                   ...      ...  \n",
       "999995  Technical report: an injection technique for r...  1914400  \n",
       "999996  Case report: vascular anomaly in Dieulafoy's d...  1914401  \n",
       "999997  Case report: multiple intracranial hydatid cys...  1914402  \n",
       "999998  Case report: cerebrospinal fluid fistula--a ra...  1914403  \n",
       "999999  Case report: an oxidized cellulose granuloma--...  1914404  \n",
       "\n",
       "[1000000 rows x 5 columns]"
      ]
     },
     "execution_count": 50,
     "metadata": {},
     "output_type": "execute_result"
    }
   ],
   "source": [
    "import pandas as pd\n",
    "\n",
    "pd.read_csv('/s3/misha/data_dir/MedRAG/medrag_dataset/dataset.csv')"
   ]
  },
  {
   "cell_type": "code",
   "execution_count": 5,
   "metadata": {},
   "outputs": [],
   "source": [
    "from vector_db import VectorDB"
   ]
  },
  {
   "cell_type": "code",
   "execution_count": 56,
   "metadata": {},
   "outputs": [],
   "source": [
    "vector_database = VectorDB()"
   ]
  },
  {
   "cell_type": "code",
   "execution_count": 57,
   "metadata": {},
   "outputs": [
    {
     "name": "stderr",
     "output_type": "stream",
     "text": [
      "\u001b[32m2024-12-08 15:51:40.342\u001b[0m | \u001b[1mINFO    \u001b[0m | \u001b[36mvector_db\u001b[0m:\u001b[36mcreate_knowledge_base\u001b[0m:\u001b[36m37\u001b[0m - \u001b[1mEncoding texts into embeddings...\u001b[0m\n",
      "Embedding texts: 100%|██████████| 200000/200000 [21:43<00:00, 153.46it/s]\n",
      "\u001b[32m2024-12-08 16:13:30.815\u001b[0m | \u001b[1mINFO    \u001b[0m | \u001b[36mvector_db\u001b[0m:\u001b[36mcreate_knowledge_base\u001b[0m:\u001b[36m46\u001b[0m - \u001b[1mSaving vector store...\u001b[0m\n",
      "\u001b[32m2024-12-08 16:13:38.199\u001b[0m | \u001b[1mINFO    \u001b[0m | \u001b[36mvector_db\u001b[0m:\u001b[36mcreate_knowledge_base\u001b[0m:\u001b[36m48\u001b[0m - \u001b[1mVector store saved successfully!\u001b[0m\n"
     ]
    }
   ],
   "source": [
    "vector_database.create_knowledge_base('/s3/misha/data_dir/MedRAG/medrag_dataset/dataset.csv')"
   ]
  },
  {
   "cell_type": "code",
   "execution_count": 58,
   "metadata": {},
   "outputs": [],
   "source": [
    "results = vector_database.search(query='what is ischemic stroke?', k=5)"
   ]
  },
  {
   "cell_type": "code",
   "execution_count": 59,
   "metadata": {},
   "outputs": [
    {
     "data": {
      "text/plain": [
       "[(Document(metadata={}, page_content='Transient ischemic attacks in the elderly: diagnosis and treatment. Transient ischemic attacks (TIAs) are the most reliable warning sign of impending stroke and are highly indicative of significant coronary artery disease. The history and physical examination may suggest the pathologic mechanism, an important clue to diagnosis and prognosis. Diagnostic testing is individualized but often includes ECG and cerebral contrast angiography. Exercise testing, echocardiography, ultrasound, CT, and/or MRI are sometimes indicated. The patient with recent TIAs may be hospitalized for acute management. Long-term treatment includes stroke risk factor modification, use of antiplatelet agents, and sometimes anticoagulant therapy. Selected older patients may be candidates for carotid endarterectomy.'),\n",
       "  0.5068155332829838),\n",
       " (Document(metadata={}, page_content='Medical management of acute cerebral ischemia. Ischemic stroke is a major cause of death and disability. Despite its high incidence, acute management remains controversial. Most current forms of therapy are designed to reduce complications of a recent stroke or prevent recurrences. Experimental data suggest that the optimal time for intervention is the hour immediately following brain ischemia.'),\n",
       "  0.4836342186929613),\n",
       " (Document(metadata={}, page_content='Clinical aspects of cerebral ischemia. Out of 1,120 cases with focal cerebrovascular lesions, 102 cases (9.1%) were classified as transient episodes under the heading of reversible ischemic attacks (RIA). RIA comprises classical transient ischemic attacks (TIA), clearing completely within 24 h, usually few minutes or hours, and strokes in which a full recovery takes place over an average of 3 weeks. The clinical definition of transient and/or reversible requires a complete negative neurological examination including the normalization of the EEG and brain scan as well as a normal computed tomography. Even multiple transient episodes quite indistinguishable from classical TIA can be brought about by cerebral tumors. TIA are important symptoms, not a disease in themselves. Hypertension and cardiac disease along with carotid stenosis and/or occlusion seem to constitute the main conditions responsible for an evolution from TIA to completed strokes.'),\n",
       "  0.4680229838576777),\n",
       " (Document(metadata={}, page_content='Associated systemic factors in cerebrovascular ischemia. Systemic disorders (eg, cardiac, hematologic) are commonly recognized as predisposing and sometimes actual precipitating events in cerebral ischemia. From available studies, the incidence of precipitation is not clear. To determine this, we undertook a comprehensive investigation of all patients with ischemic brain disease for a one-year period. Results reveal that brain ischemia is more commonly precipitated by systemic illness than usually supposed, particularly transient ischemic attacks of the vertebrobasilar circulation and completed infarcts in the carotid distribution. Cardiac disorders outnumber all other precipitating events. As they are more amenable to therapy than atherosclerosis, a diligent search for such precipitating events is warranted in patients with ischemic symptoms.'),\n",
       "  0.4673727422788516),\n",
       " (Document(metadata={}, page_content=\"[Comparative clinical characteristics of ischemic stroke with reversible and stable neurological deficit]. Fifty-four patients with minor and 54 with complete brain stroke were examined for the effect of the patients' age, nature of the underlying disease, its course, acuity of development, initial intensity, and successive dynamics of focal symptoms on the course of brain stroke. It has been discovered that the patients' sex or age, or the nature of the underlying disease do not produce any effect on the development of minor or complete brain stroke. The tendency towards decrease of the intensity of focal symptoms within the first 24 hours since the disease onset and early hospitalization of the patients was of paramount importance in cases with a complete regression of focal symptoms. The highest percentage of minor brain strokes was recorded if the patients were hospitalized within 12 hours since the disease manifestation.\"),\n",
       "  0.46576020385482486)]"
      ]
     },
     "execution_count": 59,
     "metadata": {},
     "output_type": "execute_result"
    }
   ],
   "source": [
    "results"
   ]
  },
  {
   "cell_type": "code",
   "execution_count": 60,
   "metadata": {},
   "outputs": [
    {
     "data": {
      "text/plain": [
       "'Transient ischemic attacks in the elderly: diagnosis and treatment. Transient ischemic attacks (TIAs) are the most reliable warning sign of impending stroke and are highly indicative of significant coronary artery disease. The history and physical examination may suggest the pathologic mechanism, an important clue to diagnosis and prognosis. Diagnostic testing is individualized but often includes ECG and cerebral contrast angiography. Exercise testing, echocardiography, ultrasound, CT, and/or MRI are sometimes indicated. The patient with recent TIAs may be hospitalized for acute management. Long-term treatment includes stroke risk factor modification, use of antiplatelet agents, and sometimes anticoagulant therapy. Selected older patients may be candidates for carotid endarterectomy.'"
      ]
     },
     "execution_count": 60,
     "metadata": {},
     "output_type": "execute_result"
    }
   ],
   "source": [
    "results[0][0].page_content"
   ]
  },
  {
   "cell_type": "markdown",
   "metadata": {},
   "source": [
    "# Test the loaded dataset"
   ]
  },
  {
   "cell_type": "code",
   "execution_count": 6,
   "metadata": {},
   "outputs": [
    {
     "name": "stderr",
     "output_type": "stream",
     "text": [
      "/home/mikhail/.venv/lib/python3.10/site-packages/tqdm/auto.py:21: TqdmWarning: IProgress not found. Please update jupyter and ipywidgets. See https://ipywidgets.readthedocs.io/en/stable/user_install.html\n",
      "  from .autonotebook import tqdm as notebook_tqdm\n"
     ]
    }
   ],
   "source": [
    "vector_db2 = VectorDB()"
   ]
  },
  {
   "cell_type": "code",
   "execution_count": 7,
   "metadata": {},
   "outputs": [],
   "source": [
    "vector_db2.load_db()"
   ]
  },
  {
   "cell_type": "code",
   "execution_count": 8,
   "metadata": {},
   "outputs": [],
   "source": [
    "results2 = vector_db2.search(query='what is ischemic stroke?', k=5)"
   ]
  },
  {
   "cell_type": "code",
   "execution_count": 9,
   "metadata": {},
   "outputs": [
    {
     "data": {
      "text/plain": [
       "[(Document(metadata={}, page_content='Transient ischemic attacks in the elderly: diagnosis and treatment. Transient ischemic attacks (TIAs) are the most reliable warning sign of impending stroke and are highly indicative of significant coronary artery disease. The history and physical examination may suggest the pathologic mechanism, an important clue to diagnosis and prognosis. Diagnostic testing is individualized but often includes ECG and cerebral contrast angiography. Exercise testing, echocardiography, ultrasound, CT, and/or MRI are sometimes indicated. The patient with recent TIAs may be hospitalized for acute management. Long-term treatment includes stroke risk factor modification, use of antiplatelet agents, and sometimes anticoagulant therapy. Selected older patients may be candidates for carotid endarterectomy.'),\n",
       "  0.5068155332829838),\n",
       " (Document(metadata={}, page_content='Medical management of acute cerebral ischemia. Ischemic stroke is a major cause of death and disability. Despite its high incidence, acute management remains controversial. Most current forms of therapy are designed to reduce complications of a recent stroke or prevent recurrences. Experimental data suggest that the optimal time for intervention is the hour immediately following brain ischemia.'),\n",
       "  0.4836342186929613),\n",
       " (Document(metadata={}, page_content='Clinical aspects of cerebral ischemia. Out of 1,120 cases with focal cerebrovascular lesions, 102 cases (9.1%) were classified as transient episodes under the heading of reversible ischemic attacks (RIA). RIA comprises classical transient ischemic attacks (TIA), clearing completely within 24 h, usually few minutes or hours, and strokes in which a full recovery takes place over an average of 3 weeks. The clinical definition of transient and/or reversible requires a complete negative neurological examination including the normalization of the EEG and brain scan as well as a normal computed tomography. Even multiple transient episodes quite indistinguishable from classical TIA can be brought about by cerebral tumors. TIA are important symptoms, not a disease in themselves. Hypertension and cardiac disease along with carotid stenosis and/or occlusion seem to constitute the main conditions responsible for an evolution from TIA to completed strokes.'),\n",
       "  0.4680229838576777),\n",
       " (Document(metadata={}, page_content='Associated systemic factors in cerebrovascular ischemia. Systemic disorders (eg, cardiac, hematologic) are commonly recognized as predisposing and sometimes actual precipitating events in cerebral ischemia. From available studies, the incidence of precipitation is not clear. To determine this, we undertook a comprehensive investigation of all patients with ischemic brain disease for a one-year period. Results reveal that brain ischemia is more commonly precipitated by systemic illness than usually supposed, particularly transient ischemic attacks of the vertebrobasilar circulation and completed infarcts in the carotid distribution. Cardiac disorders outnumber all other precipitating events. As they are more amenable to therapy than atherosclerosis, a diligent search for such precipitating events is warranted in patients with ischemic symptoms.'),\n",
       "  0.4673727422788516),\n",
       " (Document(metadata={}, page_content=\"[Comparative clinical characteristics of ischemic stroke with reversible and stable neurological deficit]. Fifty-four patients with minor and 54 with complete brain stroke were examined for the effect of the patients' age, nature of the underlying disease, its course, acuity of development, initial intensity, and successive dynamics of focal symptoms on the course of brain stroke. It has been discovered that the patients' sex or age, or the nature of the underlying disease do not produce any effect on the development of minor or complete brain stroke. The tendency towards decrease of the intensity of focal symptoms within the first 24 hours since the disease onset and early hospitalization of the patients was of paramount importance in cases with a complete regression of focal symptoms. The highest percentage of minor brain strokes was recorded if the patients were hospitalized within 12 hours since the disease manifestation.\"),\n",
       "  0.46576020385482486)]"
      ]
     },
     "execution_count": 9,
     "metadata": {},
     "output_type": "execute_result"
    }
   ],
   "source": [
    "results2"
   ]
  },
  {
   "cell_type": "code",
   "execution_count": 10,
   "metadata": {},
   "outputs": [],
   "source": [
    "text = ''\n",
    "\n",
    "for result in results2:\n",
    "    text += result[0].page_content"
   ]
  },
  {
   "cell_type": "code",
   "execution_count": 11,
   "metadata": {},
   "outputs": [
    {
     "data": {
      "text/plain": [
       "\"Transient ischemic attacks in the elderly: diagnosis and treatment. Transient ischemic attacks (TIAs) are the most reliable warning sign of impending stroke and are highly indicative of significant coronary artery disease. The history and physical examination may suggest the pathologic mechanism, an important clue to diagnosis and prognosis. Diagnostic testing is individualized but often includes ECG and cerebral contrast angiography. Exercise testing, echocardiography, ultrasound, CT, and/or MRI are sometimes indicated. The patient with recent TIAs may be hospitalized for acute management. Long-term treatment includes stroke risk factor modification, use of antiplatelet agents, and sometimes anticoagulant therapy. Selected older patients may be candidates for carotid endarterectomy.Medical management of acute cerebral ischemia. Ischemic stroke is a major cause of death and disability. Despite its high incidence, acute management remains controversial. Most current forms of therapy are designed to reduce complications of a recent stroke or prevent recurrences. Experimental data suggest that the optimal time for intervention is the hour immediately following brain ischemia.Clinical aspects of cerebral ischemia. Out of 1,120 cases with focal cerebrovascular lesions, 102 cases (9.1%) were classified as transient episodes under the heading of reversible ischemic attacks (RIA). RIA comprises classical transient ischemic attacks (TIA), clearing completely within 24 h, usually few minutes or hours, and strokes in which a full recovery takes place over an average of 3 weeks. The clinical definition of transient and/or reversible requires a complete negative neurological examination including the normalization of the EEG and brain scan as well as a normal computed tomography. Even multiple transient episodes quite indistinguishable from classical TIA can be brought about by cerebral tumors. TIA are important symptoms, not a disease in themselves. Hypertension and cardiac disease along with carotid stenosis and/or occlusion seem to constitute the main conditions responsible for an evolution from TIA to completed strokes.Associated systemic factors in cerebrovascular ischemia. Systemic disorders (eg, cardiac, hematologic) are commonly recognized as predisposing and sometimes actual precipitating events in cerebral ischemia. From available studies, the incidence of precipitation is not clear. To determine this, we undertook a comprehensive investigation of all patients with ischemic brain disease for a one-year period. Results reveal that brain ischemia is more commonly precipitated by systemic illness than usually supposed, particularly transient ischemic attacks of the vertebrobasilar circulation and completed infarcts in the carotid distribution. Cardiac disorders outnumber all other precipitating events. As they are more amenable to therapy than atherosclerosis, a diligent search for such precipitating events is warranted in patients with ischemic symptoms.[Comparative clinical characteristics of ischemic stroke with reversible and stable neurological deficit]. Fifty-four patients with minor and 54 with complete brain stroke were examined for the effect of the patients' age, nature of the underlying disease, its course, acuity of development, initial intensity, and successive dynamics of focal symptoms on the course of brain stroke. It has been discovered that the patients' sex or age, or the nature of the underlying disease do not produce any effect on the development of minor or complete brain stroke. The tendency towards decrease of the intensity of focal symptoms within the first 24 hours since the disease onset and early hospitalization of the patients was of paramount importance in cases with a complete regression of focal symptoms. The highest percentage of minor brain strokes was recorded if the patients were hospitalized within 12 hours since the disease manifestation.\""
      ]
     },
     "execution_count": 11,
     "metadata": {},
     "output_type": "execute_result"
    }
   ],
   "source": [
    "text"
   ]
  },
  {
   "cell_type": "code",
   "execution_count": null,
   "metadata": {},
   "outputs": [],
   "source": []
  }
 ],
 "metadata": {
  "kernelspec": {
   "display_name": ".venv",
   "language": "python",
   "name": "python3"
  },
  "language_info": {
   "codemirror_mode": {
    "name": "ipython",
    "version": 3
   },
   "file_extension": ".py",
   "mimetype": "text/x-python",
   "name": "python",
   "nbconvert_exporter": "python",
   "pygments_lexer": "ipython3",
   "version": "3.10.12"
  }
 },
 "nbformat": 4,
 "nbformat_minor": 2
}
