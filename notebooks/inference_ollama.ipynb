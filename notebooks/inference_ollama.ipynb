{
 "cells": [
  {
   "cell_type": "code",
   "execution_count": 1,
   "metadata": {},
   "outputs": [],
   "source": [
    "%load_ext autoreload\n",
    "%autoreload 2"
   ]
  },
  {
   "cell_type": "markdown",
   "metadata": {},
   "source": [
    "# 1. Load vector database"
   ]
  },
  {
   "cell_type": "code",
   "execution_count": 2,
   "metadata": {},
   "outputs": [],
   "source": [
    "import os\n",
    "import sys\n",
    "\n",
    "storage_path = os.path.abspath(\"../storages\")\n",
    "llm_response_path = os.path.abspath(\"../process\")\n",
    "summarization_path = os.path.abspath(\"../summarization\")\n",
    "sys.path.append(storage_path)\n",
    "sys.path.append(llm_response_path)\n",
    "sys.path.append(summarization_path)"
   ]
  },
  {
   "cell_type": "code",
   "execution_count": 3,
   "metadata": {},
   "outputs": [
    {
     "name": "stderr",
     "output_type": "stream",
     "text": [
      "/home/mikhail/.venv/lib/python3.10/site-packages/tqdm/auto.py:21: TqdmWarning: IProgress not found. Please update jupyter and ipywidgets. See https://ipywidgets.readthedocs.io/en/stable/user_install.html\n",
      "  from .autonotebook import tqdm as notebook_tqdm\n"
     ]
    }
   ],
   "source": [
    "from vector_db import VectorDB\n",
    "\n",
    "vector_database = VectorDB()\n",
    "vector_database.load_db()"
   ]
  },
  {
   "cell_type": "code",
   "execution_count": null,
   "metadata": {},
   "outputs": [],
   "source": []
  },
  {
   "cell_type": "code",
   "execution_count": 4,
   "metadata": {},
   "outputs": [],
   "source": [
    "from vector_db import convert_documents_to_text\n",
    "from text_rank import text_rank_summarization\n",
    "\n",
    "query = 'Is ischemic stroke lethal?'\n",
    "\n",
    "search_results = vector_database.search(query, k=10)"
   ]
  },
  {
   "cell_type": "code",
   "execution_count": 5,
   "metadata": {},
   "outputs": [],
   "source": [
    "context = convert_documents_to_text(search_results)\n",
    "summarized_context = text_rank_summarization(context)"
   ]
  },
  {
   "cell_type": "code",
   "execution_count": 11,
   "metadata": {},
   "outputs": [
    {
     "data": {
      "text/plain": [
       "[(Document(metadata={}, page_content='Transient ischemic attacks: a prospective study of 225 patients. Between the years 1964 and 1973, 225 patients with transient ischemic attacks (TIAs) due primarily to atherosclerosis were evaluated and treated. They have now been followed for from 3 to 14 years (average 5.5 years). As of 1976, 82 of the 225 patients were dead, 21 from cerebral infarction, 52 from heart disease and nine from other causes. Of the 56 untreated patients, 11 (19 percent) had cerebral infarctions, four (7 percent) of which were fatal; six (11 percent) were still having TIAs. Of the 45 patients medically treated, 10 (24 percent) had cerebral infarctions, three (7 percent) of which were fatal; 11(25 percent) still experienced TIAs. In the surgical group of 124, 27 (21 percent) had postoperative cerebral infarctions, seven (6 percent) of which were fatal; 23 (18 percent) had cerebral infarctions during follow-up, of which seven (6 percent) were fatal; and 15 (12 percent) were still having TIAs. No statistically significant differences (p less than 0.05) related to cerebral infarction or TIAs developed among the three groups. The majority (23 percent) eventually succumbed to myocardial infarction, leading us to conclude that great emphasis must be placed upon TIAs as a warning for cardiac as well as cerebrovascular disease.'),\n",
       "  0.574257487277267),\n",
       " (Document(metadata={}, page_content='Medical management of acute cerebral ischemia. Ischemic stroke is a major cause of death and disability. Despite its high incidence, acute management remains controversial. Most current forms of therapy are designed to reduce complications of a recent stroke or prevent recurrences. Experimental data suggest that the optimal time for intervention is the hour immediately following brain ischemia.'),\n",
       "  0.5507338981304877),\n",
       " (Document(metadata={}, page_content='Carotid and vertebral-basilar transient cerebral ischemic attacks. A community study, Rochester, Minnesota. THE purpose of this study was to determine the difference in prognosis among patients with transient ischemic attacks (TIA) in the carotid arterial system and those with TIA in the vertebral-basilar arterial system. Nearly twice as many patients had TIA in the carotid system as had TIA in the vertebral-basilar system. The survival rates for patients with carotid TIA and those with vertebral-basilar TIA were similar. In both groups, the survival rate was lower than the expected survival rate, but only for the patients with carotid TIA was the difference significant. There was no significant difference in the probability of the occurrence of stroke between patients with carotid TIA and those with vertebral-basilar TIA. These data also indicate that the risk of stroke is much greater soon after the onset of TIA in either arterial system. Among all patients with TIA, the primary cause of death was cardiac disease. The causes of death had a similar distribution for patients with carotid TIA, for those with vertebral-basilar TIA, and for those with \"mixed\" or \"unknown\" types of TIA.'),\n",
       "  0.502239902821247),\n",
       " (Document(metadata={}, page_content='Transient ischemic attacks in the elderly: diagnosis and treatment. Transient ischemic attacks (TIAs) are the most reliable warning sign of impending stroke and are highly indicative of significant coronary artery disease. The history and physical examination may suggest the pathologic mechanism, an important clue to diagnosis and prognosis. Diagnostic testing is individualized but often includes ECG and cerebral contrast angiography. Exercise testing, echocardiography, ultrasound, CT, and/or MRI are sometimes indicated. The patient with recent TIAs may be hospitalized for acute management. Long-term treatment includes stroke risk factor modification, use of antiplatelet agents, and sometimes anticoagulant therapy. Selected older patients may be candidates for carotid endarterectomy.'),\n",
       "  0.49521022995811503),\n",
       " (Document(metadata={}, page_content='Predicting the outcome of stroke: acute stage after cerebral infarction. On admission to hospital during the acute phase of a stroke presumed due to ischaemic infarction in one cerebral hemisphere 93 patients were examined to determine the factors associated with a poor prognosis for immediate survival. The patients particularly at risk were those who were overtly unconscious and those with any combination of impaired consciousness, dense hemiplegia, and failure of conjugate ocular gaze towards the side of the limb weakness. Necropsy evidence suggested that these signs usually indicate infarction of the whole of one middle cerebral artery territory which is often secondary to internal carotid artery occlusion and commonly produces fatal cerebral oedema.'),\n",
       "  0.48834699499975254),\n",
       " (Document(metadata={}, page_content='Thrombolytic therapy in cerebrovascular disorders. The knowledge obtained from the ongoing investigational trials of tPA for acute ischemic stroke will not only help establish the appropriate dose range and complication rates but will also further develop the clearly mandatory rapid, aggressive team approach needed to truly treat acute ischemic strokes successfully. Experimental cerebral ischemia data have pointed to the need to treat acute clinical stroke within only a few hours or less to effectively reduce stroke morbidity and mortality. Specifically, with reversible MCA occlusion models of focal cerebral ischemia (dogs and cats), the animals uniformly survive without neurological deficit if the occlusion is for less than 2 to 3 hours. Similarly in primates, MCA occlusion for 3 hours or less will lead to clinical improvement and a decrease in infarct size, with complete recovery generally associated with less than 2 hours of MCA occlusion. Therefore, it appears unlikely that ischemic brain can be salvaged if vascular occlusion persists longer than 4 to 6 hours (similar to the pathophysiology of myocardial ischemia). Further, at least one third of ischemic stroke patients reperfuse spontaneously (and obviously too late) within 48 hours of stroke onset. Several factors believed to be related to successful outcome after thrombolytic therapy are summarized in Table 16. A schematic approach to determining the response to thrombolytic agents in acute ischemic stroke is outlined in Table 17. Zivin succinctly reviews thrombolysis for stroke, both experimental and clinical, and summarizes some of the difficulties of the early clinical stroke trials with thrombolytic agents and speculates about future prospects. He believes tPA may prove valuable in the treatment of some forms of thromboembolic stroke. Its usefulness may depend in part on how quickly the drug can be initiated and the risk of side effects; factors that will require further study. The currently used doses of tPA may be too low to lyse large cerebral arterial clots and, therefore, if current trials do not show a positive treatment response, further trials with higher doses may be indicated. The implications of a potentially effective treatment for truly acute stroke are enormous: stroke will need to be considered by all (lay public through to caregivers) as a true medical emergency, analogous to MI and trauma.(ABSTRACT TRUNCATED AT 400 WORDS)'),\n",
       "  0.48358128225123165),\n",
       " (Document(metadata={}, page_content='Cerebral ischemia. I. Current angiographic techniques, complications, and safety. The angiographic evaluation of the transient ischemic attack has been technically difficult, time consuming, and complication prone because of underlying arteriosclerosis and other medical diseases. The examination described depends upon small soft catheters, dynamic fluoroscopy for positioning, and selective magnified views of the arteries needed for surgical planning. Five basic views are exposed. On the side of clinical interest, a lateral view of the head and neck, a frontal view of the head, and a fluoroscopically positioned view of the carotid bifurcation are obtained; on the other side the frontal view is omitted. A total of 662 consecutive studies were performed on 603 patients without death or permanent strokes. The only permanent complication was a partial radial nerve palsy.'),\n",
       "  0.48343465336526226),\n",
       " (Document(metadata={}, page_content='Controlled trial of aspirin in cerebral ischemia. Part II: surgical group. Patients (125) who had carotid transient ischemic attacks (TIAs) and one or more accessible carotid lesions visualized angiographically had reconstructive operations of the carotid artery and were then randomly assigned to aspirin or placebo treatment. The were followed to determine the incidence of subsecquent TIAs, death, cerebral infarction, or retinal infarction. Life table analysis (for 24 months follow up) that eliminated deaths which were not stroke-related revealed a significant difference in favor of aspirin. Because of the small number of patients and the short period of follow up, these results should be interpreted only as consistent with those reported in the initial publication but not conclusive of an aspirin effect in preventing cerebral infarction.'),\n",
       "  0.47811572108318745),\n",
       " (Document(metadata={}, page_content='Joint study of extracranial arterial occlusion. IX. Transient ischemic attacks in the carotid territory. This prospective analysis of 79 patients with transient carotid ischemic attacks (TIAs) showed that only 15% of them subsequently had strokes causing serious disability or death. They were followed up from one to nine years. All had arteriography  during initial evaluation. Most of the patients who suffered strokes had at least one additional risk factor for stroke, such as hypertension or a cardiac problem. Today it is probably impossible to collect data on the natural history of untreated TIAs, inasmuch as virtually all patients are receiving either specific medical or surgical therapy.'),\n",
       "  0.47737545383594215),\n",
       " (Document(metadata={}, page_content='[Epidemiology and risk factors of ischemic stroke in the Middle Ob region]. Based on the methods of the Brain Stroke Register, a study was made of epidemiology and risk factors (RF) of ischemic brain stroke (IBS) in one of the cities of the Middle Ob region, numbering 220 thousand population. Based on 615 cases of IBS, a noticeable rise of the disease incidence was revealed in a group of subjects aged 40-49 years as was a high level of the morbidity and mortality among persons over 60 years. Studies into RF discovered a high portion of arterial hypertension (75.1%), atherosclerosis (44.3%), aggravated heredity (28.6%), coronary heart disease (27.9%), alcohol abuse (17.9%). In 90.8% of cases, IBS developed in the presence of unfavorable fluctuations in atmospheric pressure, relative humidity, temperature, and the rate of air movement.'),\n",
       "  0.45750928390924117)]"
      ]
     },
     "execution_count": 11,
     "metadata": {},
     "output_type": "execute_result"
    }
   ],
   "source": [
    "search_results"
   ]
  },
  {
   "cell_type": "code",
   "execution_count": 12,
   "metadata": {},
   "outputs": [
    {
     "data": {
      "text/plain": [
       "(10206, 3482)"
      ]
     },
     "execution_count": 12,
     "metadata": {},
     "output_type": "execute_result"
    }
   ],
   "source": [
    "len(context), len(summarized_context)"
   ]
  },
  {
   "cell_type": "code",
   "execution_count": 7,
   "metadata": {},
   "outputs": [],
   "source": [
    "from llama_response import ollama_response_with_context\n",
    "\n",
    "response = ollama_response_with_context(query, summarized_context)"
   ]
  },
  {
   "cell_type": "code",
   "execution_count": 8,
   "metadata": {},
   "outputs": [
    {
     "data": {
      "text/plain": [
       "'yes'"
      ]
     },
     "execution_count": 8,
     "metadata": {},
     "output_type": "execute_result"
    }
   ],
   "source": [
    "response"
   ]
  },
  {
   "cell_type": "code",
   "execution_count": null,
   "metadata": {},
   "outputs": [],
   "source": []
  }
 ],
 "metadata": {
  "kernelspec": {
   "display_name": ".venv",
   "language": "python",
   "name": "python3"
  },
  "language_info": {
   "codemirror_mode": {
    "name": "ipython",
    "version": 3
   },
   "file_extension": ".py",
   "mimetype": "text/x-python",
   "name": "python",
   "nbconvert_exporter": "python",
   "pygments_lexer": "ipython3",
   "version": "3.10.12"
  }
 },
 "nbformat": 4,
 "nbformat_minor": 2
}
