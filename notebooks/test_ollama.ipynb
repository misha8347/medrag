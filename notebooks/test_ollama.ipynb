{
 "cells": [
  {
   "cell_type": "code",
   "execution_count": 1,
   "metadata": {},
   "outputs": [],
   "source": [
    "%load_ext autoreload\n",
    "%autoreload 2"
   ]
  },
  {
   "cell_type": "code",
   "execution_count": 2,
   "metadata": {},
   "outputs": [],
   "source": [
    "import os\n",
    "import sys\n",
    "\n",
    "storage_path = os.path.abspath(\"../storages\")\n",
    "llm_response_path = os.path.abspath(\"../process\")\n",
    "summarization_path = os.path.abspath(\"../summarization\")\n",
    "sys.path.append(storage_path)\n",
    "sys.path.append(llm_response_path)\n",
    "sys.path.append(summarization_path)"
   ]
  },
  {
   "cell_type": "code",
   "execution_count": 2,
   "metadata": {},
   "outputs": [
    {
     "name": "stdout",
     "output_type": "stream",
     "text": [
      "yes\n"
     ]
    }
   ],
   "source": [
    "from ollama import chat\n",
    "from ollama import ChatResponse\n",
    "\n",
    "# Define the context and query\n",
    "context = \"The knowledge base indicates that ischemic stroke occurs due to a blockage in blood flow to the brain.\"\n",
    "query = \"Is ischemic stroke caused by a blockage in blood flow?\"\n",
    "\n",
    "# Construct the prompt\n",
    "prompt = f\"\"\"\n",
    "{query}\n",
    "\n",
    "The following is the relevant context extracted from a knowledge base:\n",
    "\n",
    "{context}\n",
    "\n",
    "Based on this context, answer the following question with either \"yes\" or \"no\". Do not provide any explanations. Use lowercase.\n",
    "\n",
    "\"\"\"\n",
    "\n",
    "# Use the prompt with ollama's chat function\n",
    "response: ChatResponse = chat(model='llama3.2:3b', messages=[\n",
    "    {\n",
    "        'role': 'user',\n",
    "        'content': prompt,\n",
    "    },\n",
    "])\n",
    "\n",
    "# Print the response\n",
    "print(response.message.content)\n"
   ]
  },
  {
   "cell_type": "code",
   "execution_count": null,
   "metadata": {},
   "outputs": [
    {
     "name": "stdout",
     "output_type": "stream",
     "text": [
      "Insult - mi glacianismy nyndi bziktylysy, yaani mi glutamatergik mialdarlaryny nyndi biridi nyziyu, tyluluu neirysseu. Insult hemorragical (mi hydroma hykyllu) neirysseu ineemessiu bolip bolenid. Insultti ningel kelsidiye turlieri bar: 1) Hemorragical insult. Bula arterialyq taunttonia nyziyu bolup tabyldad. Joogar aksiymdy koetterele almaydan glakan tamyr jaraladid, joon mi zatyre keliip tuseu. Chukyslym mi didey mida basyp, oni isinendi redei, mida nyzi nyseu bir bolyki ouseu. Mundaydi insultri koebines auar, kuyzelisike toly kuynen so nuynyandudu. Keshke qarai bas jazylup keteredey katyatty aunaradid.\n",
      "\n",
      "Zattarynyning barlyqligi qyzil tutsi bolip koebines bastydudu, joogar aiynap, chukasy, bas auri koaeidi - soqsyndi aldashqy belgisi osandaui. Sonan so nuynyandudu qimyl-kozholus, sulyeue, soyloeu, sezishisktiki kabilietterii buzyladid, chukasy eystemeudu from basayip, esten tanyuda, tipte komaya jaudaiina deynin baudu - al bui insultri osandaui. 2) Ithemiyalik insultri. Bula zhagdadyda tamir ozhkabryghasy tuysystyuuine sainap gettyyuuine nemeshe tygyluudai toqpat gettyyuuine, aldaya channya mi zatyre aadymyna tygyluudiine bainansыua toqpat gettyyuuine. Trombublar - channy kamialdarlaryny nyzi yuksystyuuine jasy ereksheliuine kelyken aazedada chany kamal darlynya bityp, joogar, buykereek, mi infarktysina alaypin kellye.\n"
     ]
    }
   ],
   "source": [
    "from ollama import chat\n",
    "from ollama import ChatResponse\n",
    "\n",
    "# Define the context and query\n",
    "context = \"The knowledge base indicates that ischemic stroke occurs due to a blockage in blood flow to the brain.\"\n",
    "query = \"\"\n",
    "# Construct the prompt\n",
    "prompt = f\"\"\"\n",
    "Translate the following query to English language. Provide only translation without explanation.\n",
    "\n",
    "{query}\n",
    "\"\"\"\n",
    "\n",
    "# Use the prompt with ollama's chat function\n",
    "response: ChatResponse = chat(model='llama3.2:3b', messages=[\n",
    "    {\n",
    "        'role': 'user',\n",
    "        'content': prompt,\n",
    "    },\n",
    "])\n",
    "\n",
    "# Print the response\n",
    "print(response.message.content)\n"
   ]
  },
  {
   "cell_type": "code",
   "execution_count": 4,
   "metadata": {},
   "outputs": [
    {
     "name": "stdout",
     "output_type": "stream",
     "text": [
      "Here is the list of symptoms mentioned in the text:\n",
      "\n",
      "1. Face drooping\n",
      "2. Arm weakness\n",
      "3. Speech difficulty\n"
     ]
    }
   ],
   "source": [
    "from ollama import chat\n",
    "from ollama import ChatResponse\n",
    "\n",
    "# Define the context and query\n",
    "context = \"The knowledge base indicates that ischemic stroke occurs due to a blockage in blood flow to the brain.\"\n",
    "query = \"Patient experienced face drooping, arm weakness, and speech difficulty. Can you diagnose a disease?\"\n",
    "# Construct the prompt\n",
    "prompt = f\"\"\"\n",
    "Identify and list all symptoms mentioned in the following text. \n",
    "Include only the words or phrases directly describing physical, emotional, or psychological conditions, signs, or ailments experienced by a person. Ignore unrelated details. \n",
    "Present the symptoms as a clear, concise list. Here's the text:\n",
    "\n",
    "{query}\n",
    "\"\"\"\n",
    "\n",
    "# Use the prompt with ollama's chat function\n",
    "response: ChatResponse = chat(model='llama3.2:3b', messages=[\n",
    "    {\n",
    "        'role': 'user',\n",
    "        'content': prompt,\n",
    "    },\n",
    "])\n",
    "\n",
    "# Print the response\n",
    "print(response.message.content)\n"
   ]
  },
  {
   "cell_type": "code",
   "execution_count": 2,
   "metadata": {},
   "outputs": [
    {
     "name": "stdout",
     "output_type": "stream",
     "text": [
      "Here is the list of symptoms mentioned in the text:\n",
      "\n",
      "1. Cutaneous candidiasis\n",
      "2. Intertrigo\n",
      "3. Pruritus (itching)\n",
      "4. Exudate (discharge)\n",
      "5. Violaceous color\n",
      "6. Scaly papules\n",
      "7. Vesicles\n",
      "8. Orthokeratotic hyperkeratosis\n",
      "9. Parakeratosis\n",
      "10. Reniform nuclei\n",
      "11. Eosinophilic cytoplasm in cells\n",
      "12. Mild chronic microvascular changes in the white matter (neurological)\n",
      "13. Thickening of the renal pelvis (4 mm) in the right kidney\n",
      "14. Slight urothelial dilation\n",
      "\n",
      "Note: I have excluded symptoms that are not directly describing physical, emotional, or psychological conditions, signs, or ailments experienced by a person, such as constitutional complaints, musculoskeletal complaints, neurological complaints, urinary complaints, and social background issues.\n"
     ]
    }
   ],
   "source": [
    "from ollama import chat\n",
    "from ollama import ChatResponse\n",
    "\n",
    "# Define the context and query\n",
    "context = \"The knowledge base indicates that ischemic stroke occurs due to a blockage in blood flow to the brain.\"\n",
    "query = \"\"\"A 44-year-old female with a history of asthma, essential hypertension, class 3 obesity, depression, and poor social and economic background was intermittently followed during the previous four years for persistent cutaneous candidiasis with intertrigo in the inframammary, inguinal, and lower abdominal regions (Figure ).\\nShe had been treated with topical antifungal, oral fluconazole and oral itraconazole with no improvement, which was believed to be because of poor hygiene and questionable therapeutic compliance. A worsening in the skin rash with exudate, pruritus, and a change to a violaceous colour, with scaly papules and vesicles (Figures , ) led to the performance of a skin biopsy which revealed (Figure ) orthokeratotic hyperkeratosis in the epidermis with areas of parakeratosis and, in the papillary dermis, there was an infiltrate of cells with eosinophilic cytoplasm and reniform nuclei that showed positive CD1a and S100 proteins on the immunohistochemistry and negative CD163 (Figure ).\\nThe patient denied constitutional, musculoskeletal, neurological, or urinary complaints. She underwent a complete blood count, complete metabolic panel, brain magnetic resonance imaging (MRI), thoracic-abdominal-pelvic computed tomography (CT), and bone scintigraphy. Brain MRI depicted mild chronic microvascular changes in the white matter, unchanged from a prior study. CT demonstrated a thickening of the renal pelvis (4 mm) in the right kidney with a slight urothelial dilation (Figure ). The rest of the exams did not reveal further organ involvement.\\nAfter considering the skin histology, the extensive cutaneous involvement, and the infiltrative urothelial involvement, it was evident this was a multi-system process. A consultation with Hematology/Oncology, led to induction treatment with prednisolone and vinblastine-based chemotherapy. At six weeks of chemotherapy, there was a partial regression of the skin lesions (Figure ) and a resolution of the urothelium lesion in imaging exam (CT).\\nThe disease was in continuous regression and considering the extension of affected skin tissue a second round of chemotherapy with prednisolone and vinblastine was administered for six weeks. There was a resolution of all the lesions following this second round, and the patient underwent maintenance therapy consisting of administrating mercaptopurine daily and prednisolone/vinblastine every three weeks during 12 months, staying in remission (Figure ).\\nSix months after the end of maintenance therapy the patient had a recurrence of the disease and started second-line chemotherapy with clofarabine and cytosine arabinoside (ARA-C). The patient did not comply with the treatment and the disease progressed. As a result of skin ulceration, she developed skin and soft tissue infection that evolved into septic shock and did not survive despite intensive care support.\"\"\"\n",
    "\n",
    "# Construct the prompt\n",
    "prompt = f\"\"\"\n",
    "Identify and list all symptoms mentioned in the following text. \n",
    "Include only the words or phrases directly describing physical, emotional, or psychological conditions, signs, or ailments experienced by a person. Ignore unrelated details. \n",
    "Present the symptoms as a clear, concise list. Here's the text:\n",
    "\n",
    "{query}\n",
    "\"\"\"\n",
    "\n",
    "# Use the prompt with ollama's chat function\n",
    "response: ChatResponse = chat(model='llama3.2:3b', messages=[\n",
    "    {\n",
    "        'role': 'user',\n",
    "        'content': prompt,\n",
    "    },\n",
    "])\n",
    "\n",
    "# Print the response\n",
    "print(response.message.content)\n"
   ]
  },
  {
   "cell_type": "code",
   "execution_count": 3,
   "metadata": {},
   "outputs": [
    {
     "name": "stdout",
     "output_type": "stream",
     "text": [
      "Here is a list of medical terms mentioned in the text:\n",
      "\n",
      "1. Pituitary adenoma\n",
      "2. Transsphenoidal adenomectomy\n",
      "3. Ga (Gallium-68 DOTATATE)\n",
      "4. FDG (Fluorodeoxyglucose)\n"
     ]
    }
   ],
   "source": [
    "from ollama import chat\n",
    "from ollama import ChatResponse\n",
    "\n",
    "query = 'Is comparison of ( 68 ) Ga DOTATATE to 18F-FDG uptake useful in the differentiation of residual or recurrent pituitary adenoma from the remaining pituitary tissue after transsphenoidal adenomectomy?'\n",
    "\n",
    "prompt = f\"\"\"\n",
    "Identify and list all medical terms mentioned in the following text. \n",
    "Include only specific terms that refer to medical conditions, imaging techniques, procedures, anatomical structures, medical interventions, radiotracers, or any other specialized terminology used in medicine. Ignore unrelated details or general phrases. \n",
    "Present the medical terms as a clear, concise list. Here's the text:\n",
    "\n",
    "{query}\n",
    "\"\"\"\n",
    "\n",
    "# Use the prompt with ollama's chat function\n",
    "response: ChatResponse = chat(model='llama3.2:3b', messages=[\n",
    "    {\n",
    "        'role': 'user',\n",
    "        'content': prompt,\n",
    "    },\n",
    "])\n",
    "\n",
    "# Print the response\n",
    "print(response.message.content)\n"
   ]
  },
  {
   "cell_type": "code",
   "execution_count": null,
   "metadata": {},
   "outputs": [],
   "source": []
  },
  {
   "cell_type": "code",
   "execution_count": 4,
   "metadata": {},
   "outputs": [
    {
     "data": {
      "text/plain": [
       "{'symptoms': ['Cutaneous candidiasis',\n",
       "  'Intertrigo',\n",
       "  'Skin rash with exudate',\n",
       "  'Pruritus (itching)',\n",
       "  'Violaceous coloration of the skin',\n",
       "  'Scaly papules',\n",
       "  'Vesicles',\n",
       "  'Orthokeratotic hyperkeratosis in the epidermis',\n",
       "  'Parakeratosis',\n",
       "  'Reniform nuclei']}"
      ]
     },
     "execution_count": 4,
     "metadata": {},
     "output_type": "execute_result"
    }
   ],
   "source": [
    "import re\n",
    "\n",
    "def extract_top_symptoms(text, top_n=10):\n",
    "    # Extract symptoms from numbered or bulleted list\n",
    "    pattern = r'\\d+\\.\\s(.+?)(?=\\n|$)'  # Matches numbered list items\n",
    "    symptoms = re.findall(pattern, text)\n",
    "    \n",
    "    # Clean and prioritize symptoms\n",
    "    prioritized_symptoms = [symptom.strip() for symptom in symptoms if symptom]\n",
    "    \n",
    "    # Return top symptoms or fewer if less are available\n",
    "    result = prioritized_symptoms[:top_n]\n",
    "    \n",
    "    # Handle case when fewer symptoms are found\n",
    "    if len(result) < top_n:\n",
    "        return {\n",
    "            \"symptoms\": result,\n",
    "            \"note\": f\"Only {len(result)} symptoms found. Less than {top_n} symptoms available.\"\n",
    "        }\n",
    "    return {\"symptoms\": result}\n",
    "\n",
    "extract_top_symptoms(response.message.content)"
   ]
  },
  {
   "cell_type": "code",
   "execution_count": null,
   "metadata": {},
   "outputs": [],
   "source": []
  },
  {
   "cell_type": "code",
   "execution_count": 9,
   "metadata": {},
   "outputs": [
    {
     "name": "stdout",
     "output_type": "stream",
     "text": [
      "yes\n",
      "yes\n"
     ]
    }
   ],
   "source": [
    "from llama_response import ollama_response_without_context, ollama_response_with_context\n",
    "\n",
    "\n",
    "answer: str = ollama_response_without_context(query)\n",
    "print(answer)\n",
    "\n",
    "answer: str = ollama_response_with_context(query, context)\n",
    "print(answer)"
   ]
  },
  {
   "cell_type": "code",
   "execution_count": null,
   "metadata": {},
   "outputs": [],
   "source": []
  },
  {
   "cell_type": "code",
   "execution_count": null,
   "metadata": {},
   "outputs": [],
   "source": []
  }
 ],
 "metadata": {
  "kernelspec": {
   "display_name": ".venv",
   "language": "python",
   "name": "python3"
  },
  "language_info": {
   "codemirror_mode": {
    "name": "ipython",
    "version": 3
   },
   "file_extension": ".py",
   "mimetype": "text/x-python",
   "name": "python",
   "nbconvert_exporter": "python",
   "pygments_lexer": "ipython3",
   "version": "3.10.12"
  }
 },
 "nbformat": 4,
 "nbformat_minor": 2
}
